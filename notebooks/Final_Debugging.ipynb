{
  "nbformat": 4,
  "nbformat_minor": 0,
  "metadata": {
    "colab": {
      "provenance": [],
      "authorship_tag": "ABX9TyPsBcEIyJESDpkTkJ3QciMV",
      "include_colab_link": true
    },
    "kernelspec": {
      "name": "python3",
      "display_name": "Python 3"
    },
    "language_info": {
      "name": "python"
    }
  },
  "cells": [
    {
      "cell_type": "markdown",
      "metadata": {
        "id": "view-in-github",
        "colab_type": "text"
      },
      "source": [
        "<a href=\"https://colab.research.google.com/github/cstarke3/QMC_Final/blob/main/Final_Debugging.ipynb\" target=\"_parent\"><img src=\"https://colab.research.google.com/assets/colab-badge.svg\" alt=\"Open In Colab\"/></a>"
      ]
    },
    {
      "cell_type": "code",
      "execution_count": 84,
      "metadata": {
        "colab": {
          "base_uri": "https://localhost:8080/",
          "height": 388
        },
        "id": "PltANaIpObSt",
        "outputId": "7394ccdd-2814-445e-c723-9a43cabc3193"
      },
      "outputs": [
        {
          "output_type": "error",
          "ename": "IndexError",
          "evalue": "ignored",
          "traceback": [
            "\u001b[0;31m---------------------------------------------------------------------------\u001b[0m",
            "\u001b[0;31mIndexError\u001b[0m                                Traceback (most recent call last)",
            "\u001b[0;32m<ipython-input-84-d4b2263c1e35>\u001b[0m in \u001b[0;36m<cell line: 119>\u001b[0;34m()\u001b[0m\n\u001b[1;32m    117\u001b[0m \u001b[0;34m\u001b[0m\u001b[0m\n\u001b[1;32m    118\u001b[0m \u001b[0mval\u001b[0m \u001b[0;34m=\u001b[0m \u001b[0mQMC\u001b[0m\u001b[0;34m(\u001b[0m\u001b[0mpotential\u001b[0m\u001b[0;34m,\u001b[0m \u001b[0;36m2\u001b[0m\u001b[0;34m,\u001b[0m \u001b[0;36m10\u001b[0m\u001b[0;34m)\u001b[0m\u001b[0;34m\u001b[0m\u001b[0;34m\u001b[0m\u001b[0m\n\u001b[0;32m--> 119\u001b[0;31m \u001b[0mEnergy\u001b[0m \u001b[0;34m=\u001b[0m \u001b[0mval\u001b[0m\u001b[0;34m.\u001b[0m\u001b[0mGround_State_Energy\u001b[0m\u001b[0;34m(\u001b[0m\u001b[0;34m)\u001b[0m\u001b[0;34m\u001b[0m\u001b[0;34m\u001b[0m\u001b[0m\n\u001b[0m\u001b[1;32m    120\u001b[0m \u001b[0mprint\u001b[0m\u001b[0;34m(\u001b[0m\u001b[0mEnergy\u001b[0m\u001b[0;34m)\u001b[0m\u001b[0;34m\u001b[0m\u001b[0;34m\u001b[0m\u001b[0m\n",
            "\u001b[0;32m<ipython-input-84-d4b2263c1e35>\u001b[0m in \u001b[0;36mGround_State_Energy\u001b[0;34m(self)\u001b[0m\n\u001b[1;32m    103\u001b[0m             \u001b[0;32mfor\u001b[0m \u001b[0mt\u001b[0m \u001b[0;32min\u001b[0m \u001b[0mrange\u001b[0m\u001b[0;34m(\u001b[0m\u001b[0mself\u001b[0m\u001b[0;34m.\u001b[0m\u001b[0m_max_steps\u001b[0m\u001b[0;34m)\u001b[0m\u001b[0;34m:\u001b[0m\u001b[0;34m\u001b[0m\u001b[0;34m\u001b[0m\u001b[0m\n\u001b[1;32m    104\u001b[0m               \u001b[0;32mfor\u001b[0m \u001b[0mk\u001b[0m \u001b[0;32min\u001b[0m \u001b[0mrange\u001b[0m\u001b[0;34m(\u001b[0m\u001b[0mself\u001b[0m\u001b[0;34m.\u001b[0m\u001b[0mparticles\u001b[0m\u001b[0;34m)\u001b[0m\u001b[0;34m:\u001b[0m\u001b[0;34m\u001b[0m\u001b[0;34m\u001b[0m\u001b[0m\n\u001b[0;32m--> 105\u001b[0;31m                 \u001b[0mself\u001b[0m\u001b[0;34m.\u001b[0m\u001b[0mWalk\u001b[0m\u001b[0;34m(\u001b[0m\u001b[0mk\u001b[0m\u001b[0;34m)\u001b[0m\u001b[0;34m\u001b[0m\u001b[0;34m\u001b[0m\u001b[0m\n\u001b[0m\u001b[1;32m    106\u001b[0m                 \u001b[0mself\u001b[0m\u001b[0;34m.\u001b[0m\u001b[0mBranch\u001b[0m\u001b[0;34m(\u001b[0m\u001b[0mk\u001b[0m\u001b[0;34m)\u001b[0m\u001b[0;34m\u001b[0m\u001b[0;34m\u001b[0m\u001b[0m\n\u001b[1;32m    107\u001b[0m                 \u001b[0mself\u001b[0m\u001b[0;34m.\u001b[0m\u001b[0mCount_func\u001b[0m\u001b[0;34m(\u001b[0m\u001b[0;34m)\u001b[0m\u001b[0;34m\u001b[0m\u001b[0;34m\u001b[0m\u001b[0m\n",
            "\u001b[0;32m<ipython-input-84-d4b2263c1e35>\u001b[0m in \u001b[0;36mWalk\u001b[0;34m(self, i)\u001b[0m\n\u001b[1;32m     63\u001b[0m     \u001b[0;32mdef\u001b[0m \u001b[0mWalk\u001b[0m\u001b[0;34m(\u001b[0m\u001b[0mself\u001b[0m\u001b[0;34m,\u001b[0m \u001b[0mi\u001b[0m\u001b[0;34m)\u001b[0m\u001b[0;34m:\u001b[0m \u001b[0;31m#Walks every replica associated with particle i according to Eq. 2.30\u001b[0m\u001b[0;34m\u001b[0m\u001b[0;34m\u001b[0m\u001b[0m\n\u001b[1;32m     64\u001b[0m         \u001b[0;32mfor\u001b[0m \u001b[0mk\u001b[0m \u001b[0;32min\u001b[0m \u001b[0mrange\u001b[0m\u001b[0;34m(\u001b[0m\u001b[0mint\u001b[0m\u001b[0;34m(\u001b[0m\u001b[0mself\u001b[0m\u001b[0;34m.\u001b[0m\u001b[0mcount\u001b[0m\u001b[0;34m[\u001b[0m\u001b[0mi\u001b[0m\u001b[0;34m]\u001b[0m\u001b[0;34m)\u001b[0m\u001b[0;34m)\u001b[0m\u001b[0;34m:\u001b[0m\u001b[0;34m\u001b[0m\u001b[0;34m\u001b[0m\u001b[0m\n\u001b[0;32m---> 65\u001b[0;31m             \u001b[0mself\u001b[0m\u001b[0;34m.\u001b[0m\u001b[0mreplicas\u001b[0m\u001b[0;34m[\u001b[0m\u001b[0mi\u001b[0m\u001b[0;34m]\u001b[0m\u001b[0;34m[\u001b[0m\u001b[0;36m0\u001b[0m\u001b[0;34m,\u001b[0m\u001b[0mk\u001b[0m\u001b[0;34m]\u001b[0m \u001b[0;34m=\u001b[0m \u001b[0mself\u001b[0m\u001b[0;34m.\u001b[0m\u001b[0mreplicas\u001b[0m\u001b[0;34m[\u001b[0m\u001b[0mi\u001b[0m\u001b[0;34m]\u001b[0m\u001b[0;34m[\u001b[0m\u001b[0;36m0\u001b[0m\u001b[0;34m,\u001b[0m\u001b[0mk\u001b[0m\u001b[0;34m]\u001b[0m \u001b[0;34m+\u001b[0m \u001b[0mnp\u001b[0m\u001b[0;34m.\u001b[0m\u001b[0msqrt\u001b[0m\u001b[0;34m(\u001b[0m\u001b[0mself\u001b[0m\u001b[0;34m.\u001b[0m\u001b[0mhbar\u001b[0m\u001b[0;34m*\u001b[0m\u001b[0mself\u001b[0m\u001b[0;34m.\u001b[0m\u001b[0m_delta_t\u001b[0m\u001b[0;34m/\u001b[0m\u001b[0mself\u001b[0m\u001b[0;34m.\u001b[0m\u001b[0mmass\u001b[0m\u001b[0;34m)\u001b[0m\u001b[0;34m*\u001b[0m\u001b[0mnp\u001b[0m\u001b[0;34m.\u001b[0m\u001b[0mrandom\u001b[0m\u001b[0;34m.\u001b[0m\u001b[0mrandn\u001b[0m\u001b[0;34m(\u001b[0m\u001b[0;34m)\u001b[0m\u001b[0;34m\u001b[0m\u001b[0;34m\u001b[0m\u001b[0m\n\u001b[0m\u001b[1;32m     66\u001b[0m \u001b[0;34m\u001b[0m\u001b[0m\n\u001b[1;32m     67\u001b[0m     \u001b[0;32mdef\u001b[0m \u001b[0mBranch\u001b[0m\u001b[0;34m(\u001b[0m\u001b[0mself\u001b[0m\u001b[0;34m,\u001b[0m \u001b[0mi\u001b[0m\u001b[0;34m)\u001b[0m\u001b[0;34m:\u001b[0m \u001b[0;31m#conducts the branching of the replicas\u001b[0m\u001b[0;34m\u001b[0m\u001b[0;34m\u001b[0m\u001b[0m\n",
            "\u001b[0;31mIndexError\u001b[0m: too many indices for array: array is 1-dimensional, but 2 were indexed"
          ]
        }
      ],
      "source": [
        "import numpy as np\n",
        "import scipy.constants as const\n",
        "\n",
        "class QMC: #I'm sure I am missing stuff on referencing inside the class and whatnot, but the structure should be right\n",
        "\n",
        "    def __init__(self, V, particles, steps, dim=1, min_replicas=500, max_replicas=2000, max_steps=1000, delta_t=0.1, xmin=-20, xmax=20, bins=200):\n",
        "        self._V = V # potential function V(x) associated with the specific quantum system we are modeling\n",
        "        self._dim = dim # number of dimensions (D=1 for this exercise)\n",
        "        self._min_replicas = min_replicas # minimum number of replicas\n",
        "        self._max_replicas = max_replicas # maximum number of replicas\n",
        "        #self._seed = seed # seed value for the random number generator\n",
        "        self._max_steps = max_steps # maximum number of time steps to run the simulation (τ0 = 1000)\n",
        "        self._delta_t = delta_t # time step size (Δτ = 0.1)\n",
        "        self._xmin = xmin # minimum value of the spatial coordinate (xmin = −20)\n",
        "        self._xmax = xmax # maximum value of the spatial coordinate (xmax = 20)\n",
        "        self._bins = bins # number of spatial bins for sorting the replicas during their sampling\n",
        "        self.mass = 1\n",
        "        self.hbar = const.hbar\n",
        "\n",
        "        self.particles = particles # number of particles\n",
        "        self.steps = steps # number of monte carlo steps to take\n",
        "        self.replicas = dict()\n",
        "        self.Energy = []\n",
        "        self.total_count = [min_replicas]\n",
        "        self.count = np.zeros(self.particles)\n",
        "\n",
        "\n",
        "\n",
        "    def initialize(self, particles):\n",
        "      partial_Energy = []\n",
        "\n",
        "      for i in range(self.particles): # Create replica arrays assigned to individual particles\n",
        "          self.replicas[i] = np.zeros((2, self._max_replicas))\n",
        "          self.replicas[i][1,0:self._min_replicas] = 1\n",
        "\n",
        "      for i in range(self.particles):\n",
        "          self.count[i] = sum(self.replicas[i][1,:])\n",
        "\n",
        "      for i in range(self.particles): # Finds the Energy from Eq, 2.32 and 2.33\n",
        "          partial_Energy.append(self.Average_Potential(i))\n",
        "\n",
        "      self.Energy.append(np.sum(partial_Energy))\n",
        "\n",
        "\n",
        "    def Average_Potential(self, i): #Calulates the average potential for one set of replicas from\n",
        "        sum = 0\n",
        "        for k in range(int(self.count[i])): #I might be indexing wrong here, might be count-1; Could also switch this to N_max and not have to do a sort function, right now we need one though\n",
        "            sum += self._V(self.replicas[i][0, k])\n",
        "        return (1/self.count[i])*sum\n",
        "\n",
        "    def Sort(self, i): # Sorts live replicas to the front of the array\n",
        "        for k in range(int(self.count[i])): #sets dead replicas postions to 0\n",
        "            if self.replicas[i][1,k] == 0:\n",
        "                self.replicas[i][0,k] = 0\n",
        "        self.replicas = np.sort(self.replicas[i])[::-1] #sorts in descending order to group live replicas to the front of the array\n",
        "\n",
        "    def Count_func(self): #Counts the number of alive particles in the replica set associated with a particular particle\n",
        "        for k in range(self.particles):\n",
        "          self.count[k] = sum(self.replicas[k][1,:])\n",
        "\n",
        "        self.total_count.append(np.sum(self.count))\n",
        "\n",
        "    def Walk(self, i): #Walks every replica associated with particle i according to Eq. 2.30\n",
        "        for k in range(int(self.count[i])):\n",
        "            self.replicas[i][0,k] = self.replicas[i][0,k] + np.sqrt(self.hbar*self._delta_t/self.mass)*np.random.randn()\n",
        "\n",
        "    def Branch(self, i): #conducts the branching of the replicas\n",
        "        for k in range(int(self.count[i])):\n",
        "            index = 1\n",
        "            W = 1 - ((self._V(self.replicas[i][0,k]) - self.Average_Potential(i))/self.hbar)*self._delta_t\n",
        "            W = int(W + np.random.uniform())\n",
        "            m = min(W, 3)\n",
        "            if m == 0:\n",
        "               self.replicas[i][1, k] = 0\n",
        "            elif m == 2:\n",
        "                self.replicas[i][1, int(self.count[i]+index)] = 1\n",
        "                self.replicas[i][0,int(self.count[i]+index)] = self.replicas[i][0,k]\n",
        "                index += 1\n",
        "            elif m == 3:\n",
        "                self.replicas[i][1, int(self.count[i]+index)] = 1\n",
        "                self.replicas[i][0, int(self.count[i]+index)] = self.replicas[i][0,k]\n",
        "                self.replicas[i][1, int(self.count[i]+index+1)] = 1\n",
        "                self.replicas[i][0, int(self.count[i]+index+1)] = self.replicas[i][0,k]\n",
        "                index += 2\n",
        "\n",
        "    def Energy_Step(self, i): #finds the next energy value based on the previous energy value\n",
        "        self.Energy[i] = self.Energy[i-1] +(self.hbar/self._delta_t)*(1-(self.total_count[i]/self.total_count[i-1]))\n",
        "\n",
        "    def Test(self, i): #only run this if i is greater than a set number, 10 maybe?\n",
        "        flag = 0\n",
        "        sum = 0\n",
        "        for k in range(10):\n",
        "            sum += np.absolute(self.total_count[i] - self.total_count[k]) #Sum the count differences for the current count compared to the last 9\n",
        "        avg = sum/10 #Average the count difference\n",
        "        if avg <= 5: #5 here is the tolerance, not sure what a good value is or if there is a just a better way in general to run this test\n",
        "            flag = 1\n",
        "        return flag\n",
        "\n",
        "    def Ground_State_Energy(self):\n",
        "        self.initialize(self.particles)\n",
        "        flag = 0\n",
        "        if flag == 0:\n",
        "            for t in range(self._max_steps):\n",
        "              for k in range(self.particles):\n",
        "                self.Walk(k)\n",
        "                self.Branch(k)\n",
        "                self.Count_func()\n",
        "                self.Sort(k)\n",
        "                self.Energy_Step(k)\n",
        "                if t > 10:\n",
        "                  flag = self.Test(k)\n",
        "        return self.Energy[-1]\n",
        "\n",
        "\n",
        "def potential(x):\n",
        "    return 2*x\n",
        "\n",
        "val = QMC(potential, 2, 10)\n",
        "Energy = val.Ground_State_Energy()\n",
        "print(Energy)"
      ]
    },
    {
      "cell_type": "code",
      "source": [
        "test = dict()\n",
        "test[0] = np.zeros((2, 10))\n",
        "test[0][1,0:5] = 1\n",
        "test[1] = np.zeros((2, 10))\n",
        "test[1][1,0:5] = 1\n",
        "test[2] = np.zeros((2, 10))\n",
        "test[2][1,0:5] = 1"
      ],
      "metadata": {
        "id": "emmudqaZOcNq"
      },
      "execution_count": 36,
      "outputs": []
    },
    {
      "cell_type": "code",
      "source": [
        "test"
      ],
      "metadata": {
        "colab": {
          "base_uri": "https://localhost:8080/"
        },
        "id": "6y60Iw7kHp3C",
        "outputId": "de9d80c9-ef61-4890-c272-fd0e65e01b6e"
      },
      "execution_count": 37,
      "outputs": [
        {
          "output_type": "execute_result",
          "data": {
            "text/plain": [
              "{0: array([[0., 0., 0., 0., 0., 0., 0., 0., 0., 0.],\n",
              "        [1., 1., 1., 1., 1., 0., 0., 0., 0., 0.]]),\n",
              " 1: array([[0., 0., 0., 0., 0., 0., 0., 0., 0., 0.],\n",
              "        [1., 1., 1., 1., 1., 0., 0., 0., 0., 0.]]),\n",
              " 2: array([[0., 0., 0., 0., 0., 0., 0., 0., 0., 0.],\n",
              "        [1., 1., 1., 1., 1., 0., 0., 0., 0., 0.]])}"
            ]
          },
          "metadata": {},
          "execution_count": 37
        }
      ]
    },
    {
      "cell_type": "code",
      "source": [
        "count = np.zeros(3)\n",
        "for i in range(3):\n",
        "  count[i] = sum(test[i][1,:])\n",
        "\n",
        "print(count)"
      ],
      "metadata": {
        "colab": {
          "base_uri": "https://localhost:8080/"
        },
        "id": "OLTSd4gtHr5k",
        "outputId": "6353f866-f947-4447-b7e1-eb34c495939d"
      },
      "execution_count": 59,
      "outputs": [
        {
          "output_type": "stream",
          "name": "stdout",
          "text": [
            "[5. 5. 5.]\n"
          ]
        }
      ]
    },
    {
      "cell_type": "code",
      "source": [
        "count[1]"
      ],
      "metadata": {
        "colab": {
          "base_uri": "https://localhost:8080/",
          "height": 181
        },
        "id": "Of882ljHUmN2",
        "outputId": "6f587314-6ee1-486c-c32f-3d7dfa850027"
      },
      "execution_count": 57,
      "outputs": [
        {
          "output_type": "error",
          "ename": "IndexError",
          "evalue": "ignored",
          "traceback": [
            "\u001b[0;31m---------------------------------------------------------------------------\u001b[0m",
            "\u001b[0;31mIndexError\u001b[0m                                Traceback (most recent call last)",
            "\u001b[0;32m<ipython-input-57-17f2b8043268>\u001b[0m in \u001b[0;36m<cell line: 1>\u001b[0;34m()\u001b[0m\n\u001b[0;32m----> 1\u001b[0;31m \u001b[0mcount\u001b[0m\u001b[0;34m[\u001b[0m\u001b[0;36m1\u001b[0m\u001b[0;34m]\u001b[0m\u001b[0;34m\u001b[0m\u001b[0;34m\u001b[0m\u001b[0m\n\u001b[0m",
            "\u001b[0;31mIndexError\u001b[0m: index 1 is out of bounds for axis 0 with size 1"
          ]
        }
      ]
    },
    {
      "cell_type": "code",
      "source": [
        "test2[0]"
      ],
      "metadata": {
        "colab": {
          "base_uri": "https://localhost:8080/"
        },
        "id": "A3iJ_rgKU7tC",
        "outputId": "74a89985-a1f5-4f9c-c7fb-68c431404def"
      },
      "execution_count": 43,
      "outputs": [
        {
          "output_type": "execute_result",
          "data": {
            "text/plain": [
              "0.0"
            ]
          },
          "metadata": {},
          "execution_count": 43
        }
      ]
    },
    {
      "cell_type": "code",
      "source": [
        "test2[0] = 5"
      ],
      "metadata": {
        "id": "yfw_FtQwVFcS"
      },
      "execution_count": 44,
      "outputs": []
    },
    {
      "cell_type": "code",
      "source": [
        "test2"
      ],
      "metadata": {
        "colab": {
          "base_uri": "https://localhost:8080/"
        },
        "id": "NGia6u-GVJX8",
        "outputId": "6fb748c2-a6e2-40ce-cb59-38df388a6a6f"
      },
      "execution_count": 45,
      "outputs": [
        {
          "output_type": "execute_result",
          "data": {
            "text/plain": [
              "array([5., 0., 0., 0., 0.])"
            ]
          },
          "metadata": {},
          "execution_count": 45
        }
      ]
    },
    {
      "cell_type": "code",
      "source": [],
      "metadata": {
        "id": "x5B94NZFVK0d"
      },
      "execution_count": null,
      "outputs": []
    }
  ]
}
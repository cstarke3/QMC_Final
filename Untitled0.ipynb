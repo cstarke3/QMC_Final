{
  "nbformat": 4,
  "nbformat_minor": 0,
  "metadata": {
    "colab": {
      "provenance": [],
      "authorship_tag": "ABX9TyPr2iuKuQHdR6n+a3YCMu1e",
      "include_colab_link": true
    },
    "kernelspec": {
      "name": "python3",
      "display_name": "Python 3"
    },
    "language_info": {
      "name": "python"
    }
  },
  "cells": [
    {
      "cell_type": "markdown",
      "metadata": {
        "id": "view-in-github",
        "colab_type": "text"
      },
      "source": [
        "<a href=\"https://colab.research.google.com/github/cstarke3/QMC_Final/blob/main/Untitled0.ipynb\" target=\"_parent\"><img src=\"https://colab.research.google.com/assets/colab-badge.svg\" alt=\"Open In Colab\"/></a>"
      ]
    },
    {
      "cell_type": "code",
      "execution_count": 53,
      "metadata": {
        "id": "CjxQZobrvLbW"
      },
      "outputs": [],
      "source": [
        "import numpy as np\n",
        "import scipy.constants as const\n",
        "import matplotlib as plt\n",
        "\n",
        "class QMC: #I'm sure I am missing stuff on referencing inside the class and whatnot, but the structure should be right\n",
        "\n",
        "    def __init__(self, V, particles, dim=1, min_replicas=500, max_replicas=2000, max_steps=1000, delta_t=0.1, xmin=-20, xmax=20, bins=200):\n",
        "        self._V = V # potential function V(x) associated with the specific quantum system we are modeling\n",
        "        self._dim = dim # number of dimensions (D=1 for this exercise)\n",
        "        self._min_replicas = min_replicas # minimum number of replicas\n",
        "        self._max_replicas = max_replicas # maximum number of replicas\n",
        "        #self._seed = seed # seed value for the random number generator\n",
        "        self._max_steps = max_steps # maximum number of time steps to run the simulation (τ0 = 1000)\n",
        "        self._delta_t = delta_t # time step size (Δτ = 0.1)\n",
        "        self._xmin = xmin # minimum value of the spatial coordinate (xmin = −20)\n",
        "        self._xmax = xmax # maximum value of the spatial coordinate (xmax = 20)\n",
        "        self._bins = bins # number of spatial bins for sorting the replicas during their sampling\n",
        "        self.mass = 1\n",
        "        self.hbar = 1 #changed to one\n",
        "\n",
        "        self.particles = particles # number of particles\n",
        "        self.replicas = dict()\n",
        "        self.Energy = []\n",
        "        self.total_count = [min_replicas*particles]\n",
        "        self.count = np.zeros(self.particles)\n",
        "\n",
        "\n",
        "\n",
        "    def initialize(self, particles):\n",
        "      partial_Energy = []\n",
        "\n",
        "      for i in range(self.particles): # Create replica arrays assigned to individual particles\n",
        "          self.replicas[i] = np.zeros((2, self._max_replicas))\n",
        "          self.replicas[i][1,0:self._min_replicas] = 1\n",
        "\n",
        "      for i in range(self.particles):\n",
        "          self.count[i] = sum(self.replicas[i][1,:])\n",
        "\n",
        "      for i in range(self.particles): # Finds the Energy from Eq, 2.32 and 2.33\n",
        "          partial_Energy.append(self.Average_Potential(i))\n",
        "\n",
        "      self.Energy.append(np.sum(partial_Energy))\n",
        "\n",
        "\n",
        "    def Average_Potential(self, i): #Calulates the average potential for one set of replicas from\n",
        "        sum = 0\n",
        "        for k in range(int(self.count[i])): #I might be indexing wrong here, might be count-1; Could also switch this to N_max and not have to do a sort function, right now we need one though\n",
        "            sum += self._V(self.replicas[i][0, k])\n",
        "        return (1/self.count[i])*sum\n",
        "\n",
        "    def Sort(self, i): # Sorts live replicas to the front of the array\n",
        "        for k in range(int(self.count[i])): #sets dead replicas postions to 0\n",
        "            if self.replicas[i][1,k] == 0:\n",
        "                self.replicas[i][0,k] = 0\n",
        "\n",
        "        transposed_array = list(zip(*self.replicas[i]))\n",
        "        def custom_sort(item):\n",
        "          return item[1]\n",
        "\n",
        "        sorted_transposed_array = sorted(transposed_array, key=custom_sort)\n",
        "        dummy_array = list(zip(*sorted_transposed_array))\n",
        "        final_array = [dummy_array[0][::-1], dummy_array[1][::-1]]\n",
        "\n",
        "        for k in range(self._max_replicas):\n",
        "          self.replicas[i][0,k] = final_array[0][k]\n",
        "          self.replicas[i][1,k] = final_array[1][k]#sorts in descending order to group live replicas to the front of the array\n",
        "\n",
        "\n",
        "    def Count_func(self): #Counts the number of alive particles in the replica set associated with a particular particle\n",
        "        for k in range(self.particles):\n",
        "          self.count[k] = sum(self.replicas[k][1,:])\n",
        "\n",
        "\n",
        "\n",
        "    def Walk(self, i): #Walks every replica associated with particle i according to Eq. 2.30\n",
        "        for k in range(int(self.count[i])):\n",
        "            self.replicas[i][0,k] = self.replicas[i][0,k] + np.sqrt(self._delta_t)*np.random.randn()\n",
        "\n",
        "    def Branch(self, i): #conducts the branching of the replicas\n",
        "        Zed = 0\n",
        "        Two = 0\n",
        "        Three = 0\n",
        "        index = 1\n",
        "        for k in range(int(self.count[i])):\n",
        "            W = 1 - ((self._V(self.replicas[i][0,k]) - self.Average_Potential(i))/self.hbar)*self._delta_t\n",
        "            W = int(W + np.random.uniform())\n",
        "            m = min(W, 3)\n",
        "            if m == 0:\n",
        "               self.replicas[i][1, k] = 0\n",
        "               self.replicas[i][0, k] = 0\n",
        "               Zed += 1\n",
        "            elif m == 2:\n",
        "                self.replicas[i][1, int(self.count[i]+index)] = 1\n",
        "                self.replicas[i][0, int(self.count[i]+index)] = self.replicas[i][0,k]\n",
        "                index += 1\n",
        "                Two += 1\n",
        "            elif m == 3:\n",
        "                self.replicas[i][1, int(self.count[i]+index)] = 1\n",
        "                self.replicas[i][0, int(self.count[i]+index)] = self.replicas[i][0,k]\n",
        "                self.replicas[i][1, int(self.count[i]+index+1)] = 1\n",
        "                self.replicas[i][0, int(self.count[i]+index+1)] = self.replicas[i][0,k]\n",
        "                index += 2\n",
        "                Three += 1\n",
        "        #print(Zed, Two, Three)\n",
        "        #print(Two - Zed)\n",
        "\n",
        "    def Energy_Step(self, i): #finds the next energy value based on the previous energy value\n",
        "        self.total_count.append(np.sum(self.count))\n",
        "        self.Energy.append(self.Energy[i-1] + (self.hbar/self._delta_t)*(1-(self.total_count[i]/self.total_count[i-1])))\n",
        "        print(self.Energy[-1], self.total_count[-1])\n",
        "\n",
        "    def Test(self, i): #only run this if i is greater than a set number, 10 maybe?\n",
        "        flag = 0\n",
        "        sum = 0\n",
        "        for k in range(10):\n",
        "            sum += np.absolute(self.total_count[i] - self.total_count[k]) #Sum the count differences for the current count compared to the last 9\n",
        "        avg = sum/10 #Average the count difference\n",
        "        if avg <= 5: #5 here is the tolerance, not sure what a good value is or if there is a just a better way in general to run this test\n",
        "            flag = 1\n",
        "        return flag\n",
        "\n",
        "    def Ground_State_Energy(self):\n",
        "        self.initialize(self.particles)\n",
        "        flag = 0\n",
        "        if flag == 0:\n",
        "            for t in range(1, self._max_steps):\n",
        "              for k in range(self.particles):\n",
        "                if t > 10:\n",
        "                  flag = self.Test(k)\n",
        "                self.Walk(k)\n",
        "                self.Branch(k)\n",
        "                self.Count_func()\n",
        "                self.Sort(k)\n",
        "              self.Energy_Step(t)\n",
        "\n",
        "        return self.Energy[-1], self.Energy"
      ]
    },
    {
      "cell_type": "code",
      "source": [
        "!gdown 14mgfJyCBSvw01ctiK9H6V2JbjcGYNMFc\n",
        "!unzip -o lib.zip"
      ],
      "metadata": {
        "colab": {
          "base_uri": "https://localhost:8080/"
        },
        "id": "2i3pDBrxvXm8",
        "outputId": "5fa8534c-dead-4337-fc37-8d3328793314"
      },
      "execution_count": 2,
      "outputs": [
        {
          "output_type": "stream",
          "name": "stdout",
          "text": [
            "Downloading...\n",
            "From: https://drive.google.com/uc?id=14mgfJyCBSvw01ctiK9H6V2JbjcGYNMFc\n",
            "To: /content/lib.zip\n",
            "\r  0% 0.00/3.35k [00:00<?, ?B/s]\r100% 3.35k/3.35k [00:00<00:00, 15.3MB/s]\n",
            "Archive:  lib.zip\n",
            "   creating: lib/\n",
            "  inflating: lib/operator.py         \n",
            "  inflating: lib/potential.py        \n",
            "  inflating: lib/riccati.py          \n",
            "  inflating: lib/system.py           \n"
          ]
        }
      ]
    },
    {
      "cell_type": "code",
      "source": [
        "from lib.system import *\n",
        "sys = System()\n",
        "\n",
        "from lib.potential import *\n",
        "\n",
        "V = V_Gauss(sys, -4.0, 2.0)\n",
        "\n",
        "def potential(x):\n",
        "    return 2*x\n",
        "\n",
        "val = QMC(V, 2, 10, max_steps=1000, delta_t = .1, max_replicas=2000)\n",
        "Final_Energy, Energies = val.Ground_State_Energy()\n",
        "print(Final_Energy)"
      ],
      "metadata": {
        "colab": {
          "base_uri": "https://localhost:8080/",
          "height": 1000
        },
        "id": "r_Qj6DX7vMbj",
        "outputId": "b24c7286-2a95-4724-da96-b55a78db09f6"
      },
      "execution_count": 54,
      "outputs": [
        {
          "output_type": "stream",
          "name": "stdout",
          "text": [
            "-8.02 1002.0\n",
            "-8.01001996007984 1001.0\n",
            "-8.04998000003988 1005.0\n",
            "-8.04998000003988 1005.0\n",
            "-8.04998000003988 1005.0\n",
            "-8.04998000003988 1005.0\n",
            "-8.0599302487961 1006.0\n",
            "-8.109632038060514 1011.0\n",
            "-8.079958447556063 1008.0\n",
            "-8.099799717397332 1010.0\n",
            "-8.099799717397332 1010.0\n",
            "-7.980987836209213 998.0\n",
            "-8.131288437411618 1013.0\n",
            "-8.03257175429217 1003.0\n",
            "-7.972751215907326 997.0\n",
            "-8.133232660240324 1013.0\n",
            "-8.143104328552269 1014.0\n",
            "-8.074070797980276 1007.0\n",
            "-8.074070797980276 1007.0\n",
            "-8.103862257761806 1010.0\n",
            "-8.084060277563786 1008.0\n",
            "-7.984853928357437 998.0\n",
            "-8.05499420891856 1005.0\n",
            "-8.005242965137466 1000.0\n",
            "-7.915242965137466 991.0\n",
            "-7.945515417206084 994.0\n",
            "-8.046119038936466 1004.0\n",
            "-7.976397923398617 997.0\n",
            "-7.755735937440742 975.0\n",
            "-7.755735937440742 975.0\n",
            "-7.724966706671512 972.0\n",
            "-7.7455428383587535 974.0\n",
            "-7.6428734338413 964.0\n",
            "-7.570259325957482 957.0\n",
            "-7.423968834839405 943.0\n",
            "-7.360342111615651 937.0\n",
            "-7.242946167111915 926.0\n",
            "-7.145753942489885 917.0\n",
            "-7.22208982035248 924.0\n",
            "-7.265379863642522 928.0\n",
            "-7.114517794677005 914.0\n",
            "-7.070754118528209 910.0\n",
            "-7.114710162484252 914.0\n",
            "-7.0928283244098544 912.0\n",
            "-7.081863412129152 911.0\n",
            "-6.818416650328932 887.0\n",
            "-6.8522385218058215 890.0\n",
            "-6.694935151019305 876.0\n",
            "-6.626442000334373 870.0\n",
            "-6.672419011828627 874.0\n",
            "-6.603769126245103 868.0\n",
            "-6.53464470228197 862.0\n",
            "-6.360630781168281 847.0\n",
            "-6.3252116548400625 844.0\n",
            "-6.419998384697884 852.0\n",
            "-6.560843455120419 864.0\n",
            "-6.491399010675975 858.0\n",
            "-6.52636404564101 861.0\n",
            "-6.596050456790835 867.0\n",
            "-6.699856685164537 876.0\n",
            "-6.631363534479606 870.0\n",
            "-6.6543520402267315 872.0\n",
            "-6.6084804805937045 868.0\n",
            "-6.251337623450848 837.0\n",
            "-6.251337623450848 837.0\n",
            "-6.263285054753118 838.0\n",
            "-6.275218228977462 839.0\n",
            "-6.430164593697367 852.0\n",
            "-6.465375861303002 855.0\n",
            "-6.523855393466745 860.0\n",
            "-6.407576323699303 850.0\n",
            "-6.336988088405185 844.0\n",
            "-6.408078135798551 850.0\n",
            "-6.349254606386786 845.0\n",
            "-6.455763482126432 854.0\n",
            "-6.408925074632287 850.0\n",
            "-6.608925074632287 867.0\n",
            "-6.412846643259738 850.0\n",
            "-6.271670172671502 838.0\n",
            "-6.164271604652409 829.0\n",
            "-6.091895247595715 823.0\n",
            "-6.128347252455983 826.0\n",
            "-6.067814564804651 821.0\n",
            "-6.25051858429308 836.0\n",
            "-6.274442029269157 838.0\n",
            "-6.107377590128346 824.0\n",
            "-5.998154289157472 815.0\n",
            "-6.034964105108392 818.0\n",
            "-6.083863860609613 822.0\n",
            "-6.108194760852923 824.0\n",
            "-5.974699615221855 813.0\n",
            "-5.863998508210785 804.0\n",
            "-5.863998508210785 804.0\n",
            "-5.863998508210785 804.0\n",
            "-5.863998508210785 804.0\n",
            "-5.789371642539143 798.0\n",
            "-5.726715000935133 793.0\n",
            "-5.688883979497555 790.0\n",
            "-5.587618156712744 782.0\n",
            "-5.6004058804979095 783.0\n",
            "-5.511006135925751 776.0\n",
            "-5.523892733863895 777.0\n",
            "-5.472412682383843 773.0\n",
            "-5.459476071775822 772.0\n",
            "-5.511289543278413 776.0\n",
            "-5.4855163474021245 774.0\n",
            "-5.537195933965432 778.0\n",
            "-5.48578205221736 774.0\n",
            "-5.472862155576532 773.0\n",
            "-5.4469889343604905 771.0\n",
            "-5.278376742401995 758.0\n",
            "-5.317954578813604 761.0\n",
            "-5.186548534135548 751.0\n",
            "-5.1599173756801555 749.0\n",
            "-4.9596503529832265 734.0\n",
            "-4.946026374781592 733.0\n",
            "-4.905098680375044 730.0\n",
            "-4.727016488594222 717.0\n",
            "-4.51781146767372 702.0\n",
            "-4.603281553143805 708.0\n",
            "-4.462038615290698 698.0\n",
            "-4.519345205548578 702.0\n",
            "-4.505100191303563 701.0\n",
            "-4.590692202715831 707.0\n",
            "-4.435105215445676 696.0\n",
            "-4.463840847629583 698.0\n",
            "-4.449514200065113 697.0\n",
            "-4.291694974814037 686.0\n",
            "-4.204231417962726 680.0\n",
            "-4.071878476786256 671.0\n",
            "-4.012265958157344 667.0\n",
            "-3.9822809506610923 665.0\n",
            "-3.8920553867513172 659.0\n",
            "-3.876880879922789 658.0\n",
            "-3.983263858646194 665.0\n",
            "-4.1035646105258925 673.0\n",
            "-4.1035646105258925 673.0\n",
            "-4.07384692850509 671.0\n",
            "-4.07384692850509 671.0\n",
            "-4.044040669190633 669.0\n",
            "-3.819825422553863 654.0\n",
            "-3.8504064623092136 656.0\n",
            "-3.7284552427970183 648.0\n",
            "-3.7284552427970183 648.0\n",
            "-3.88277623045134 658.0\n",
            "-3.7459981149498196 649.0\n",
            "-3.9308979608666146 661.0\n",
            "-3.779612030458142 651.0\n",
            "-3.794973013561061 652.0\n",
            "-3.702948473683761 646.0\n",
            "-3.702948473683761 646.0\n",
            "-3.641028969039798 642.0\n",
            "-3.812368532902727 653.0\n",
            "-3.827682468584196 654.0\n",
            "-3.70535830956279 646.0\n",
            "-3.6434388049188273 642.0\n",
            "-3.768049396819139 650.0\n",
            "-3.9065109352806773 659.0\n",
            "-3.785114880652453 651.0\n",
            "-3.7083099651378593 646.0\n",
            "-3.8166690982647933 653.0\n",
            "-3.8932387766721432 658.0\n",
            "-3.969226618617432 663.0\n",
            "-3.893811837320298 658.0\n",
            "-4.045787521210875 668.0\n",
            "-4.105667760731833 672.0\n",
            "-4.180072522636595 677.0\n",
            "-4.120988327658752 673.0\n",
            "-4.09127064563795 671.0\n",
            "-4.121076904952405 673.0\n",
            "-4.002206176869196 665.0\n",
            "-4.002206176869196 665.0\n",
            "-3.9721309888992713 663.0\n",
            "-3.8967162076021373 658.0\n",
            "-3.972704049547426 663.0\n",
            "-4.033035874585133 667.0\n",
            "-3.898103340852 658.0\n",
            "-3.822115498906711 653.0\n",
            "-3.8068015632252408 652.0\n",
            "-3.5000530969675716 632.0\n",
            "-3.674103729878965 643.0\n",
            "-3.5807911326783426 637.0\n",
            "-3.6592840683141348 642.0\n",
            "-3.596978772363979 638.0\n",
            "-3.502934885216643 632.0\n",
            "-3.4712893155963895 630.0\n",
            "-3.5506543949614686 635.0\n",
            "-3.424670142992965 627.0\n",
            "-3.488465996262502 631.0\n",
            "-3.488465996262502 631.0\n",
            "-3.393378833029539 625.0\n",
            "-3.345378833029539 622.0\n",
            "-3.2489158105215 616.0\n",
            "-3.2651495767552663 617.0\n",
            "-3.1354899333192856 609.0\n",
            "-2.9056048758480215 595.0\n",
            "-2.9056048758480215 595.0\n",
            "-2.922411598537097 596.0\n",
            "-2.9391901220270302 597.0\n",
            "-3.0396926345898447 603.0\n",
            "-3.122611374225003 608.0\n",
            "-2.9910324268565818 600.0\n",
            "-2.9576990935232486 598.0\n",
            "-3.1918128058978303 612.0\n",
            "-3.1264533287736476 608.0\n",
            "-3.0771112235104896 605.0\n",
            "-3.2093426284691677 613.0\n",
            "-3.1277765599536704 608.0\n",
            "-3.2100134020589337 613.0\n",
            "-3.2100134020589337 613.0\n",
            "-3.144760547246536 609.0\n",
            "-3.144760547246536 609.0\n",
            "-3.0462383797588513 603.0\n",
            "-3.0462383797588513 603.0\n",
            "-3.0296546318318196 602.0\n",
            "-2.996432040469693 600.0\n",
            "-2.979765373803026 599.0\n",
            "-3.1967937544374156 612.0\n",
            "-3.327512708685781 620.0\n",
            "-3.3436417409438466 621.0\n",
            "-3.327538681362526 620.0\n",
            "-3.327538681362526 620.0\n",
            "-3.3597967458786546 622.0\n",
            "-3.199025041698591 612.0\n",
            "-3.2317047802606824 614.0\n",
            "-3.1991314903584023 612.0\n",
            "-3.1827916210773566 611.0\n",
            "-3.0845919484095985 605.0\n",
            "-3.1672365765087718 610.0\n",
            "-3.0852693633940174 605.0\n",
            "-3.068740437774183 604.0\n",
            "-3.052184146383455 603.0\n",
            "-3.0190166505293923 601.0\n",
            "-2.919183039880474 595.0\n",
            "-2.9696032079477006 598.0\n",
            "-3.153549696242016 609.0\n",
            "-3.186390418737911 611.0\n",
            "-3.0881907460701528 605.0\n",
            "-3.038603969210649 602.0\n",
            "-2.855879716718955 591.0\n"
          ]
        },
        {
          "output_type": "error",
          "ename": "KeyboardInterrupt",
          "evalue": "ignored",
          "traceback": [
            "\u001b[0;31m---------------------------------------------------------------------------\u001b[0m",
            "\u001b[0;31mKeyboardInterrupt\u001b[0m                         Traceback (most recent call last)",
            "\u001b[0;32m<ipython-input-54-31d47626dcf3>\u001b[0m in \u001b[0;36m<cell line: 12>\u001b[0;34m()\u001b[0m\n\u001b[1;32m     10\u001b[0m \u001b[0;34m\u001b[0m\u001b[0m\n\u001b[1;32m     11\u001b[0m \u001b[0mval\u001b[0m \u001b[0;34m=\u001b[0m \u001b[0mQMC\u001b[0m\u001b[0;34m(\u001b[0m\u001b[0mV\u001b[0m\u001b[0;34m,\u001b[0m \u001b[0;36m2\u001b[0m\u001b[0;34m,\u001b[0m \u001b[0;36m10\u001b[0m\u001b[0;34m,\u001b[0m \u001b[0mmax_steps\u001b[0m\u001b[0;34m=\u001b[0m\u001b[0;36m1000\u001b[0m\u001b[0;34m,\u001b[0m \u001b[0mdelta_t\u001b[0m \u001b[0;34m=\u001b[0m \u001b[0;36m.1\u001b[0m\u001b[0;34m,\u001b[0m \u001b[0mmax_replicas\u001b[0m\u001b[0;34m=\u001b[0m\u001b[0;36m2000\u001b[0m\u001b[0;34m)\u001b[0m\u001b[0;34m\u001b[0m\u001b[0;34m\u001b[0m\u001b[0m\n\u001b[0;32m---> 12\u001b[0;31m \u001b[0mFinal_Energy\u001b[0m\u001b[0;34m,\u001b[0m \u001b[0mEnergies\u001b[0m \u001b[0;34m=\u001b[0m \u001b[0mval\u001b[0m\u001b[0;34m.\u001b[0m\u001b[0mGround_State_Energy\u001b[0m\u001b[0;34m(\u001b[0m\u001b[0;34m)\u001b[0m\u001b[0;34m\u001b[0m\u001b[0;34m\u001b[0m\u001b[0m\n\u001b[0m\u001b[1;32m     13\u001b[0m \u001b[0mprint\u001b[0m\u001b[0;34m(\u001b[0m\u001b[0mFinal_Energy\u001b[0m\u001b[0;34m)\u001b[0m\u001b[0;34m\u001b[0m\u001b[0;34m\u001b[0m\u001b[0m\n",
            "\u001b[0;32m<ipython-input-53-98f4f004ffd7>\u001b[0m in \u001b[0;36mGround_State_Energy\u001b[0;34m(self)\u001b[0m\n\u001b[1;32m    129\u001b[0m                   \u001b[0mflag\u001b[0m \u001b[0;34m=\u001b[0m \u001b[0mself\u001b[0m\u001b[0;34m.\u001b[0m\u001b[0mTest\u001b[0m\u001b[0;34m(\u001b[0m\u001b[0mk\u001b[0m\u001b[0;34m)\u001b[0m\u001b[0;34m\u001b[0m\u001b[0;34m\u001b[0m\u001b[0m\n\u001b[1;32m    130\u001b[0m                 \u001b[0mself\u001b[0m\u001b[0;34m.\u001b[0m\u001b[0mWalk\u001b[0m\u001b[0;34m(\u001b[0m\u001b[0mk\u001b[0m\u001b[0;34m)\u001b[0m\u001b[0;34m\u001b[0m\u001b[0;34m\u001b[0m\u001b[0m\n\u001b[0;32m--> 131\u001b[0;31m                 \u001b[0mself\u001b[0m\u001b[0;34m.\u001b[0m\u001b[0mBranch\u001b[0m\u001b[0;34m(\u001b[0m\u001b[0mk\u001b[0m\u001b[0;34m)\u001b[0m\u001b[0;34m\u001b[0m\u001b[0;34m\u001b[0m\u001b[0m\n\u001b[0m\u001b[1;32m    132\u001b[0m                 \u001b[0mself\u001b[0m\u001b[0;34m.\u001b[0m\u001b[0mCount_func\u001b[0m\u001b[0;34m(\u001b[0m\u001b[0;34m)\u001b[0m\u001b[0;34m\u001b[0m\u001b[0;34m\u001b[0m\u001b[0m\n\u001b[1;32m    133\u001b[0m                 \u001b[0mself\u001b[0m\u001b[0;34m.\u001b[0m\u001b[0mSort\u001b[0m\u001b[0;34m(\u001b[0m\u001b[0mk\u001b[0m\u001b[0;34m)\u001b[0m\u001b[0;34m\u001b[0m\u001b[0;34m\u001b[0m\u001b[0m\n",
            "\u001b[0;32m<ipython-input-53-98f4f004ffd7>\u001b[0m in \u001b[0;36mBranch\u001b[0;34m(self, i)\u001b[0m\n\u001b[1;32m     83\u001b[0m         \u001b[0mindex\u001b[0m \u001b[0;34m=\u001b[0m \u001b[0;36m1\u001b[0m\u001b[0;34m\u001b[0m\u001b[0;34m\u001b[0m\u001b[0m\n\u001b[1;32m     84\u001b[0m         \u001b[0;32mfor\u001b[0m \u001b[0mk\u001b[0m \u001b[0;32min\u001b[0m \u001b[0mrange\u001b[0m\u001b[0;34m(\u001b[0m\u001b[0mint\u001b[0m\u001b[0;34m(\u001b[0m\u001b[0mself\u001b[0m\u001b[0;34m.\u001b[0m\u001b[0mcount\u001b[0m\u001b[0;34m[\u001b[0m\u001b[0mi\u001b[0m\u001b[0;34m]\u001b[0m\u001b[0;34m)\u001b[0m\u001b[0;34m)\u001b[0m\u001b[0;34m:\u001b[0m\u001b[0;34m\u001b[0m\u001b[0;34m\u001b[0m\u001b[0m\n\u001b[0;32m---> 85\u001b[0;31m             \u001b[0mW\u001b[0m \u001b[0;34m=\u001b[0m \u001b[0;36m1\u001b[0m \u001b[0;34m-\u001b[0m \u001b[0;34m(\u001b[0m\u001b[0;34m(\u001b[0m\u001b[0mself\u001b[0m\u001b[0;34m.\u001b[0m\u001b[0m_V\u001b[0m\u001b[0;34m(\u001b[0m\u001b[0mself\u001b[0m\u001b[0;34m.\u001b[0m\u001b[0mreplicas\u001b[0m\u001b[0;34m[\u001b[0m\u001b[0mi\u001b[0m\u001b[0;34m]\u001b[0m\u001b[0;34m[\u001b[0m\u001b[0;36m0\u001b[0m\u001b[0;34m,\u001b[0m\u001b[0mk\u001b[0m\u001b[0;34m]\u001b[0m\u001b[0;34m)\u001b[0m \u001b[0;34m-\u001b[0m \u001b[0mself\u001b[0m\u001b[0;34m.\u001b[0m\u001b[0mAverage_Potential\u001b[0m\u001b[0;34m(\u001b[0m\u001b[0mi\u001b[0m\u001b[0;34m)\u001b[0m\u001b[0;34m)\u001b[0m\u001b[0;34m/\u001b[0m\u001b[0mself\u001b[0m\u001b[0;34m.\u001b[0m\u001b[0mhbar\u001b[0m\u001b[0;34m)\u001b[0m\u001b[0;34m*\u001b[0m\u001b[0mself\u001b[0m\u001b[0;34m.\u001b[0m\u001b[0m_delta_t\u001b[0m\u001b[0;34m\u001b[0m\u001b[0;34m\u001b[0m\u001b[0m\n\u001b[0m\u001b[1;32m     86\u001b[0m             \u001b[0mW\u001b[0m \u001b[0;34m=\u001b[0m \u001b[0mint\u001b[0m\u001b[0;34m(\u001b[0m\u001b[0mW\u001b[0m \u001b[0;34m+\u001b[0m \u001b[0mnp\u001b[0m\u001b[0;34m.\u001b[0m\u001b[0mrandom\u001b[0m\u001b[0;34m.\u001b[0m\u001b[0muniform\u001b[0m\u001b[0;34m(\u001b[0m\u001b[0;34m)\u001b[0m\u001b[0;34m)\u001b[0m\u001b[0;34m\u001b[0m\u001b[0;34m\u001b[0m\u001b[0m\n\u001b[1;32m     87\u001b[0m             \u001b[0mm\u001b[0m \u001b[0;34m=\u001b[0m \u001b[0mmin\u001b[0m\u001b[0;34m(\u001b[0m\u001b[0mW\u001b[0m\u001b[0;34m,\u001b[0m \u001b[0;36m3\u001b[0m\u001b[0;34m)\u001b[0m\u001b[0;34m\u001b[0m\u001b[0;34m\u001b[0m\u001b[0m\n",
            "\u001b[0;32m<ipython-input-53-98f4f004ffd7>\u001b[0m in \u001b[0;36mAverage_Potential\u001b[0;34m(self, i)\u001b[0m\n\u001b[1;32m     46\u001b[0m         \u001b[0msum\u001b[0m \u001b[0;34m=\u001b[0m \u001b[0;36m0\u001b[0m\u001b[0;34m\u001b[0m\u001b[0;34m\u001b[0m\u001b[0m\n\u001b[1;32m     47\u001b[0m         \u001b[0;32mfor\u001b[0m \u001b[0mk\u001b[0m \u001b[0;32min\u001b[0m \u001b[0mrange\u001b[0m\u001b[0;34m(\u001b[0m\u001b[0mint\u001b[0m\u001b[0;34m(\u001b[0m\u001b[0mself\u001b[0m\u001b[0;34m.\u001b[0m\u001b[0mcount\u001b[0m\u001b[0;34m[\u001b[0m\u001b[0mi\u001b[0m\u001b[0;34m]\u001b[0m\u001b[0;34m)\u001b[0m\u001b[0;34m)\u001b[0m\u001b[0;34m:\u001b[0m \u001b[0;31m#I might be indexing wrong here, might be count-1; Could also switch this to N_max and not have to do a sort function, right now we need one though\u001b[0m\u001b[0;34m\u001b[0m\u001b[0;34m\u001b[0m\u001b[0m\n\u001b[0;32m---> 48\u001b[0;31m             \u001b[0msum\u001b[0m \u001b[0;34m+=\u001b[0m \u001b[0mself\u001b[0m\u001b[0;34m.\u001b[0m\u001b[0m_V\u001b[0m\u001b[0;34m(\u001b[0m\u001b[0mself\u001b[0m\u001b[0;34m.\u001b[0m\u001b[0mreplicas\u001b[0m\u001b[0;34m[\u001b[0m\u001b[0mi\u001b[0m\u001b[0;34m]\u001b[0m\u001b[0;34m[\u001b[0m\u001b[0;36m0\u001b[0m\u001b[0;34m,\u001b[0m \u001b[0mk\u001b[0m\u001b[0;34m]\u001b[0m\u001b[0;34m)\u001b[0m\u001b[0;34m\u001b[0m\u001b[0;34m\u001b[0m\u001b[0m\n\u001b[0m\u001b[1;32m     49\u001b[0m         \u001b[0;32mreturn\u001b[0m \u001b[0;34m(\u001b[0m\u001b[0;36m1\u001b[0m\u001b[0;34m/\u001b[0m\u001b[0mself\u001b[0m\u001b[0;34m.\u001b[0m\u001b[0mcount\u001b[0m\u001b[0;34m[\u001b[0m\u001b[0mi\u001b[0m\u001b[0;34m]\u001b[0m\u001b[0;34m)\u001b[0m\u001b[0;34m*\u001b[0m\u001b[0msum\u001b[0m\u001b[0;34m\u001b[0m\u001b[0;34m\u001b[0m\u001b[0m\n\u001b[1;32m     50\u001b[0m \u001b[0;34m\u001b[0m\u001b[0m\n",
            "\u001b[0;32m/content/lib/potential.py\u001b[0m in \u001b[0;36m__call__\u001b[0;34m(self, r)\u001b[0m\n\u001b[1;32m    104\u001b[0m \u001b[0;34m\u001b[0m\u001b[0m\n\u001b[1;32m    105\u001b[0m   \u001b[0;32mdef\u001b[0m \u001b[0m__call__\u001b[0m\u001b[0;34m(\u001b[0m\u001b[0mself\u001b[0m\u001b[0;34m,\u001b[0m \u001b[0mr\u001b[0m\u001b[0;34m)\u001b[0m\u001b[0;34m:\u001b[0m\u001b[0;34m\u001b[0m\u001b[0;34m\u001b[0m\u001b[0m\n\u001b[0;32m--> 106\u001b[0;31m     \u001b[0;32mreturn\u001b[0m \u001b[0mself\u001b[0m\u001b[0;34m.\u001b[0m\u001b[0mV0\u001b[0m \u001b[0;34m*\u001b[0m \u001b[0mnp\u001b[0m\u001b[0;34m.\u001b[0m\u001b[0mexp\u001b[0m\u001b[0;34m(\u001b[0m\u001b[0;34m-\u001b[0m\u001b[0mr\u001b[0m\u001b[0;34m**\u001b[0m\u001b[0;36m2\u001b[0m \u001b[0;34m/\u001b[0m \u001b[0mself\u001b[0m\u001b[0;34m.\u001b[0m\u001b[0mR2\u001b[0m\u001b[0;34m)\u001b[0m\u001b[0;34m\u001b[0m\u001b[0;34m\u001b[0m\u001b[0m\n\u001b[0m\u001b[1;32m    107\u001b[0m \u001b[0;34m\u001b[0m\u001b[0m\n\u001b[1;32m    108\u001b[0m   \u001b[0;32mdef\u001b[0m \u001b[0mget\u001b[0m\u001b[0;34m(\u001b[0m\u001b[0mself\u001b[0m\u001b[0;34m,\u001b[0m \u001b[0mell\u001b[0m\u001b[0;34m,\u001b[0m \u001b[0mp\u001b[0m\u001b[0;34m,\u001b[0m \u001b[0mq\u001b[0m\u001b[0;34m)\u001b[0m\u001b[0;34m:\u001b[0m\u001b[0;34m\u001b[0m\u001b[0;34m\u001b[0m\u001b[0m\n",
            "\u001b[0;31mKeyboardInterrupt\u001b[0m: "
          ]
        }
      ]
    },
    {
      "cell_type": "code",
      "source": [
        "x = np.arange(0,1000)\n",
        "plt.plot(x, Energies)"
      ],
      "metadata": {
        "id": "nWQFXidFvovO",
        "colab": {
          "base_uri": "https://localhost:8080/",
          "height": 448
        },
        "outputId": "a2b9bf95-fe27-4698-a40d-91a7c2699907"
      },
      "execution_count": 48,
      "outputs": [
        {
          "output_type": "execute_result",
          "data": {
            "text/plain": [
              "[<matplotlib.lines.Line2D at 0x7c7294c4c5e0>]"
            ]
          },
          "metadata": {},
          "execution_count": 48
        },
        {
          "output_type": "display_data",
          "data": {
            "text/plain": [
              "<Figure size 640x480 with 1 Axes>"
            ],
            "image/png": "[encoded data removed]"
          },
          "metadata": {}
        }
      ]
    },
    {
      "cell_type": "code",
      "source": [
        "array = [\n",
        "    [3, 7, 2, 0, 5, 0, 1, 8, 4, 6],\n",
        "    [1, 0, 3, 4, 0, 6, 7, 2, 5, 8]\n",
        "]\n",
        "\n",
        "transposed_array = list(zip(*array))\n",
        "def custom_sort(item):\n",
        "    return item[1]\n",
        "\n",
        "sorted_transposed_array = sorted(transposed_array, key=custom_sort)\n",
        "sorted_array = list(zip(*sorted_transposed_array))\n",
        "\n",
        "# Print the result\n",
        "for row in sorted_array:\n",
        "    print(row)"
      ],
      "metadata": {
        "id": "q0VrBgLRR7mv",
        "colab": {
          "base_uri": "https://localhost:8080/"
        },
        "outputId": "8e8023e5-847f-43fb-dd03-b32590e36bbf"
      },
      "execution_count": 5,
      "outputs": [
        {
          "output_type": "stream",
          "name": "stdout",
          "text": [
            "(7, 5, 3, 8, 2, 0, 4, 0, 1, 6)\n",
            "(0, 0, 1, 2, 3, 4, 5, 6, 7, 8)\n"
          ]
        }
      ]
    },
    {
      "cell_type": "code",
      "source": [
        "sorted_array"
      ],
      "metadata": {
        "colab": {
          "base_uri": "https://localhost:8080/"
        },
        "id": "AilTLVjRUoPs",
        "outputId": "28938e00-9bd1-43ef-ff4e-efd90c540898"
      },
      "execution_count": 6,
      "outputs": [
        {
          "output_type": "execute_result",
          "data": {
            "text/plain": [
              "[(7, 5, 3, 8, 2, 0, 4, 0, 1, 6), (0, 0, 1, 2, 3, 4, 5, 6, 7, 8)]"
            ]
          },
          "metadata": {},
          "execution_count": 6
        }
      ]
    },
    {
      "cell_type": "code",
      "source": [
        "sorted_array[1][::-1]"
      ],
      "metadata": {
        "colab": {
          "base_uri": "https://localhost:8080/"
        },
        "id": "LGK7kdT0VCHE",
        "outputId": "82bd5896-acb8-4007-dbcd-289a4e359ad3"
      },
      "execution_count": 7,
      "outputs": [
        {
          "output_type": "execute_result",
          "data": {
            "text/plain": [
              "(8, 7, 6, 5, 4, 3, 2, 1, 0, 0)"
            ]
          },
          "metadata": {},
          "execution_count": 7
        }
      ]
    },
    {
      "cell_type": "code",
      "source": [
        "sorted_array[0][::-1]"
      ],
      "metadata": {
        "colab": {
          "base_uri": "https://localhost:8080/"
        },
        "id": "o0MkY_m7VG5O",
        "outputId": "e5b3ea89-046e-4d1d-b8bc-efd7d5ad2443"
      },
      "execution_count": 8,
      "outputs": [
        {
          "output_type": "execute_result",
          "data": {
            "text/plain": [
              "(6, 1, 0, 4, 0, 2, 8, 3, 5, 7)"
            ]
          },
          "metadata": {},
          "execution_count": 8
        }
      ]
    },
    {
      "cell_type": "code",
      "source": [
        "final_array = [sorted_array[0][::-1], sorted_array[1][::-1]]"
      ],
      "metadata": {
        "id": "v2aaPAi5VLkE"
      },
      "execution_count": 9,
      "outputs": []
    },
    {
      "cell_type": "code",
      "source": [
        "for row in final_array:\n",
        "    print(row)"
      ],
      "metadata": {
        "colab": {
          "base_uri": "https://localhost:8080/"
        },
        "id": "jFJuJhIKVXWZ",
        "outputId": "2118669d-8822-4c95-f772-628894ec29f3"
      },
      "execution_count": 10,
      "outputs": [
        {
          "output_type": "stream",
          "name": "stdout",
          "text": [
            "(6, 1, 0, 4, 0, 2, 8, 3, 5, 7)\n",
            "(8, 7, 6, 5, 4, 3, 2, 1, 0, 0)\n"
          ]
        }
      ]
    },
    {
      "cell_type": "code",
      "source": [
        "final_array"
      ],
      "metadata": {
        "id": "_pl5mBEBVYmD",
        "colab": {
          "base_uri": "https://localhost:8080/"
        },
        "outputId": "9cf0799d-df7e-4314-c9e7-ba85e80db5d1"
      },
      "execution_count": 11,
      "outputs": [
        {
          "output_type": "execute_result",
          "data": {
            "text/plain": [
              "[(6, 1, 0, 4, 0, 2, 8, 3, 5, 7), (8, 7, 6, 5, 4, 3, 2, 1, 0, 0)]"
            ]
          },
          "metadata": {},
          "execution_count": 11
        }
      ]
    },
    {
      "cell_type": "code",
      "source": [
        "Energies"
      ],
      "metadata": {
        "id": "NUqKtLMFJOxN",
        "colab": {
          "base_uri": "https://localhost:8080/"
        },
        "outputId": "081544de-27d4-4172-f238-22836648571c"
      },
      "execution_count": 15,
      "outputs": [
        {
          "output_type": "execute_result",
          "data": {
            "text/plain": [
              "[-8.0,\n",
              " -18.0,\n",
              " -18.0,\n",
              " -17.99,\n",
              " -18.01002002002002,\n",
              " -18.049980059980058,\n",
              " -18.04002981122384,\n",
              " -18.04002981122384,\n",
              " -18.069910289311487,\n",
              " -18.04011882952996,\n",
              " -18.02019851080486,\n",
              " -18.03017855072502,\n",
              " -18.050118730186632,\n",
              " -18.109820222723947,\n",
              " -18.03069064804541,\n",
              " -18.08054109669945,\n",
              " -18.08054109669945,\n",
              " -18.06069982685818,\n",
              " -18.090520900416827,\n",
              " -18.03105608376668,\n",
              " -17.991175724843448,\n",
              " -17.971155704823428,\n",
              " -17.890914982656927,\n",
              " -17.931359876489083,\n",
              " -18.042135304485054,\n",
              " -18.032175145122505,\n",
              " -17.992294786199274,\n",
              " -18.032334826239314,\n",
              " -18.052275005700928,\n",
              " -18.002523761919832,\n",
              " -18.01252376191983,\n",
              " -18.032503781899848,\n",
              " -18.042473871630655,\n",
              " -18.082314509080852,\n",
              " -18.112076413842757,\n",
              " -18.14175000434721,\n",
              " -18.122026138469497,\n",
              " -18.141788984319298,\n",
              " -18.023445789053028,\n",
              " -17.89370527009095,\n",
              " -17.8532603762588,\n",
              " -17.78219438641108,\n",
              " -17.83331913078736,\n",
              " -17.823146190807705,\n",
              " -17.772229693862695,\n",
              " -17.854113010137006,\n",
              " -17.854113010137006,\n",
              " -17.884569862928885,\n",
              " -17.884569862928885,\n",
              " -17.99590589531755,\n",
              " -18.00591590532756,\n",
              " -18.00591590532756,\n",
              " -18.035915905327556,\n",
              " -18.02594581559675,\n",
              " -18.00598573575643,\n",
              " -17.975985735756428,\n",
              " -17.90577510386074,\n",
              " -17.91587611396175,\n",
              " -17.936057748674163,\n",
              " -17.915916761765803,\n",
              " -17.946189213834423,\n",
              " -17.926068489488348,\n",
              " -17.855503973359315,\n",
              " -17.814894836303477,\n",
              " -17.794507476466578,\n",
              " -17.845579999449214,\n",
              " -17.845579999449214,\n",
              " -17.896393007579295,\n",
              " -17.92672667795341,\n",
              " -17.967049258598575,\n",
              " -17.926888616028293,\n",
              " -18.037775712802485,\n",
              " -18.047745802533292,\n",
              " -17.987984846357993,\n",
              " -18.038085046758795,\n",
              " -18.0480551364896,\n",
              " -18.0480551364896,\n",
              " -17.978334020951753,\n",
              " -17.95827384041013,\n",
              " -17.948223589153848,\n",
              " -17.968344313499923,\n",
              " -18.008504956070205,\n",
              " -17.958504956070204,\n",
              " -17.92835420230136,\n",
              " -17.867870331333616,\n",
              " -17.83744436784477,\n",
              " -17.827271427865117,\n",
              " -17.766171631531105,\n",
              " -17.79690933644914,\n",
              " -17.847981859431776,\n",
              " -17.908957469187875,\n",
              " -17.878654438884844,\n",
              " -17.91918128792233,\n",
              " -17.838454749072685,\n",
              " -17.889319448970955,\n",
              " -17.91968382144059,\n",
              " -18.000410360290235,\n",
              " -17.970380330260205,\n",
              " -17.960340169617634,\n",
              " -17.93018941584879]"
            ]
          },
          "metadata": {},
          "execution_count": 15
        }
      ]
    },
    {
      "cell_type": "code",
      "source": [],
      "metadata": {
        "id": "cCAlChHpcmjb"
      },
      "execution_count": null,
      "outputs": []
    }
  ]
}
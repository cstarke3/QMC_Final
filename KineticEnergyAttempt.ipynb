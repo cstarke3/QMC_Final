{
  "nbformat": 4,
  "nbformat_minor": 0,
  "metadata": {
    "colab": {
      "provenance": [],
      "include_colab_link": true
    },
    "kernelspec": {
      "name": "python3",
      "display_name": "Python 3"
    },
    "language_info": {
      "name": "python"
    }
  },
  "cells": [
    {
      "cell_type": "markdown",
      "metadata": {
        "id": "view-in-github",
        "colab_type": "text"
      },
      "source": [
        "<a href=\"https://colab.research.google.com/github/cstarke3/QMC_Final/blob/main/KineticEnergyAttempt.ipynb\" target=\"_parent\"><img src=\"https://colab.research.google.com/assets/colab-badge.svg\" alt=\"Open In Colab\"/></a>"
      ]
    },
    {
      "cell_type": "code",
      "source": [
        "def tests():\n",
        "  \"\"\"\n",
        "  E_0 for the same attractive Gaussian potential that was used in previous homework assignments, with parameters V_0 = -4.0 and range R = 2.0.\n",
        "  Note that even for two particles the ground-state energy below differs from the homework result because that calculation was performed for the 3D system with angular momentum 0, while now we are considering the system in 1D.\n",
        "  \"\"\"\n",
        "  # v_0 = -4.0, R=2.0, n = 2, E_0 = -3.094\n",
        "  # v_0 = -4.0, R=2.0, n = 3, E_0 = -9.738\n",
        "  # v_0 = -4.0, R=2.0, n = 4, E_0 = -20.046"
      ],
      "metadata": {
        "id": "kqbxH3HqRng2"
      },
      "execution_count": null,
      "outputs": []
    },
    {
      "cell_type": "code",
      "execution_count": 75,
      "metadata": {
        "id": "CjxQZobrvLbW"
      },
      "outputs": [],
      "source": [
        "import numpy as np\n",
        "import scipy.constants as const\n",
        "import matplotlib as plt\n",
        "\n",
        "class QMC: #I'm sure I am missing stuff on referencing inside the class and whatnot, but the structure should be right\n",
        "\n",
        "    def __init__(self, V, particles, dim=1, min_replicas=500, max_replicas=2000, max_steps=1000, delta_t=0.1, xmin=-20, xmax=20, bins=200):\n",
        "        self._V = V # potential function V(x) associated with the specific quantum system we are modeling\n",
        "        self._dim = dim # number of dimensions (D=1 for this exercise)\n",
        "        self._min_replicas = min_replicas # minimum number of replicas\n",
        "        self._max_replicas = max_replicas # maximum number of replicas\n",
        "        #self._seed = seed # seed value for the random number generator\n",
        "        self._max_steps = max_steps # maximum number of time steps to run the simulation (τ0 = 1000)\n",
        "        self._delta_t = delta_t # time step size (Δτ = 0.1)\n",
        "        self._xmin = xmin # minimum value of the spatial coordinate (xmin = −20)\n",
        "        self._xmax = xmax # maximum value of the spatial coordinate (xmax = 20)\n",
        "        self._bins = bins # number of spatial bins for sorting the replicas during their sampling\n",
        "        self.mass = 1\n",
        "        self.hbar = 1 #changed to one\n",
        "\n",
        "        #self.particles = particles # number of particles\n",
        "        self.particles = int(((particles-1)**2+(particles-1))/2)\n",
        "        self.replicas = dict()\n",
        "        self.Energy = []\n",
        "        self.total_count = [min_replicas*particles]\n",
        "        self.count = np.zeros(self.particles)\n",
        "        self.Kinetic = np.zeros(self.particles)\n",
        "\n",
        "\n",
        "\n",
        "    def initialize(self, particles):\n",
        "      partial_Energy = []\n",
        "\n",
        "      for i in range(self.particles): # Create replica arrays assigned to individual particles\n",
        "          self.replicas[i] = np.zeros((2, self._max_replicas))\n",
        "          self.replicas[i][1,0:self._min_replicas] = 1\n",
        "\n",
        "      for i in range(self.particles):\n",
        "          self.count[i] = sum(self.replicas[i][1,:])\n",
        "\n",
        "      for i in range(self.particles): # Finds the Energy from Eq, 2.32 and 2.33\n",
        "          partial_Energy.append(self.Average_Potential(i))\n",
        "\n",
        "      self.Energy.append(np.sum(partial_Energy))\n",
        "\n",
        "\n",
        "    def Average_Potential(self, i): #Calulates the average potential for one set of replicas from\n",
        "        sum = 0\n",
        "        for k in range(int(self.count[i])): #I might be indexing wrong here, might be count-1; Could also switch this to N_max and not have to do a sort function, right now we need one though\n",
        "            sum += self._V(self.replicas[i][0, k])\n",
        "        return (1/self.count[i])*sum\n",
        "\n",
        "    def Sort(self, i): # Sorts live replicas to the front of the array\n",
        "        for k in range(int(self.count[i])): #sets dead replicas postions to 0\n",
        "            if self.replicas[i][1,k] == 0:\n",
        "                self.replicas[i][0,k] = 0\n",
        "\n",
        "        transposed_array = list(zip(*self.replicas[i]))\n",
        "        def custom_sort(item):\n",
        "          return item[1]\n",
        "\n",
        "        sorted_transposed_array = sorted(transposed_array, key=custom_sort)\n",
        "        dummy_array = list(zip(*sorted_transposed_array))\n",
        "        final_array = [dummy_array[0][::-1], dummy_array[1][::-1]]\n",
        "\n",
        "        for k in range(self._max_replicas):\n",
        "          self.replicas[i][0,k] = final_array[0][k]\n",
        "          self.replicas[i][1,k] = final_array[1][k]#sorts in descending order to group live replicas to the front of the array\n",
        "\n",
        "\n",
        "    def Count_func(self): #Counts the number of alive particles in the replica set associated with a particular particle\n",
        "        for k in range(self.particles):\n",
        "          self.count[k] = sum(self.replicas[k][1,:])\n",
        "\n",
        "\n",
        "    def Walk(self, i): #Walks every replica associated with particle i according to Eq. 2.30\n",
        "        sum = 0\n",
        "        for k in range(int(self.count[i])):\n",
        "            val = np.copy(self.replicas[i][0,k])\n",
        "            self.replicas[i][0,k] = self.replicas[i][0,k] + np.sqrt(self.hbar*self._delta_t/self.mass)*np.random.randn()\n",
        "            val = val - self.replicas[i][0,k]\n",
        "            sum += val\n",
        "        #print(self.count[i])\n",
        "        self.Kinetic[i] = (1/self.count[i])*sum\n",
        "\n",
        "    def Branch(self, i): #conducts the branching of the replicas\n",
        "        Zed = 0\n",
        "        Two = 0\n",
        "        Three = 0\n",
        "        index = 1\n",
        "        for k in range(int(self.count[i])):\n",
        "            #W = 1 - ((self._V(self.replicas[i][0,k]) - self.Average_Potential(i))/self.hbar)*self._delta_t\n",
        "            W = 1 - (self._V(self.replicas[i][0,k]) - (self.Energy[-1]/self.particles))*(self._delta_t/self.hbar)\n",
        "            W = int(W + np.random.uniform())\n",
        "            m = min(W, 3)\n",
        "            if m == 0:\n",
        "               self.replicas[i][1, k] = 0\n",
        "               self.replicas[i][0, k] = 0\n",
        "               Zed += 1\n",
        "            elif m == 2:\n",
        "                self.replicas[i][1, int(self.count[i]+index)] = 1\n",
        "                self.replicas[i][0, int(self.count[i]+index)] = self.replicas[i][0,k]\n",
        "                index += 1\n",
        "                Two += 1\n",
        "            elif m == 3:\n",
        "                self.replicas[i][1, int(self.count[i]+index)] = 1\n",
        "                self.replicas[i][0, int(self.count[i]+index)] = self.replicas[i][0,k]\n",
        "                self.replicas[i][1, int(self.count[i]+index+1)] = 1\n",
        "                self.replicas[i][0, int(self.count[i]+index+1)] = self.replicas[i][0,k]\n",
        "                index += 2\n",
        "                Three += 1\n",
        "        #print(Zed, Two, Three)\n",
        "        #print(Two - Zed)\n",
        "\n",
        "    def Energy_Step(self, i): #finds the next energy value based on the previous energy value\n",
        "        self.total_count.append(np.sum(self.count))\n",
        "        Kinetic_Total = np.sum(np.absolute(self.Kinetic))/(self.particles)\n",
        "        #self.Energy.append(self.Energy[i-1] + (self.hbar/self._delta_t)*(1-(self.total_count[i-1]/self.total_count[i-2])))\n",
        "        self.Energy.append((self.Energy[i-1] + (self.hbar/self._delta_t)*(1-(self.total_count[i]/self.total_count[i-1])))+((1/2)*self.mass*(np.absolute(Kinetic_Total)*self._delta_t)**2))\n",
        "\n",
        "\n",
        "    def Test(self, i): #only run this if i is greater than a set number, 10 maybe?\n",
        "        flag = 0\n",
        "        sum = 0\n",
        "        for k in range(10):\n",
        "            sum += np.absolute(self.total_count[i] - self.total_count[k]) #Sum the count differences for the current count compared to the last 9\n",
        "        avg = sum/10 #Average the count difference\n",
        "        if avg <= 5: #5 here is the tolerance, not sure what a good value is or if there is a just a better way in general to run this test\n",
        "            flag = 1\n",
        "        return flag\n",
        "\n",
        "    def Ground_State_Energy(self):\n",
        "        self.initialize(self.particles)\n",
        "        flag = 0\n",
        "        if flag == 0:\n",
        "            for t in range(1, self._max_steps):\n",
        "              for k in range(self.particles):\n",
        "                if t > 10:\n",
        "                  flag = self.Test(k)\n",
        "                self.Walk(k)\n",
        "                self.Branch(k)\n",
        "                self.Count_func()\n",
        "                self.Sort(k)\n",
        "              self.Energy_Step(t)\n",
        "\n",
        "        return self.Energy[-1], self.Energy"
      ]
    },
    {
      "cell_type": "code",
      "source": [
        "!gdown 14mgfJyCBSvw01ctiK9H6V2JbjcGYNMFc\n",
        "!unzip -o lib.zip"
      ],
      "metadata": {
        "colab": {
          "base_uri": "https://localhost:8080/"
        },
        "id": "2i3pDBrxvXm8",
        "outputId": "03b3f547-4e25-4a57-b7b0-01e7734a3321"
      },
      "execution_count": 2,
      "outputs": [
        {
          "output_type": "stream",
          "name": "stdout",
          "text": [
            "Downloading...\n",
            "From: https://drive.google.com/uc?id=14mgfJyCBSvw01ctiK9H6V2JbjcGYNMFc\n",
            "To: /content/lib.zip\n",
            "\r  0% 0.00/3.35k [00:00<?, ?B/s]\r100% 3.35k/3.35k [00:00<00:00, 11.7MB/s]\n",
            "Archive:  lib.zip\n",
            "   creating: lib/\n",
            "  inflating: lib/operator.py         \n",
            "  inflating: lib/potential.py        \n",
            "  inflating: lib/riccati.py          \n",
            "  inflating: lib/system.py           \n"
          ]
        }
      ]
    },
    {
      "cell_type": "code",
      "source": [
        "from lib.system import *\n",
        "sys = System()\n",
        "\n",
        "from lib.potential import *\n",
        "\n",
        "V = V_Gauss(sys, -4.0, 2.0)\n",
        "\n",
        "def potential(x):\n",
        "    return 2*x\n",
        "\n",
        "val = QMC(V, 2, 10, max_steps=1000, delta_t = .1, max_replicas=2000)\n",
        "Final_Energy, Energies = val.Ground_State_Energy()\n",
        "print(np.mean(Energies))\n",
        "print(np.std(Energies))"
      ],
      "metadata": {
        "colab": {
          "base_uri": "https://localhost:8080/"
        },
        "id": "r_Qj6DX7vMbj",
        "outputId": "4c9ea01d-d2fe-4e22-cd4f-41997fba9110"
      },
      "execution_count": 78,
      "outputs": [
        {
          "output_type": "stream",
          "name": "stdout",
          "text": [
            "-3.3269494173986924\n",
            "0.1717666712124695\n"
          ]
        }
      ]
    },
    {
      "cell_type": "code",
      "source": [
        "x = np.arange(0,1000)\n",
        "plt.plot(x, Energies)"
      ],
      "metadata": {
        "id": "nWQFXidFvovO",
        "colab": {
          "base_uri": "https://localhost:8080/",
          "height": 448
        },
        "outputId": "6b33d47b-8821-4b4e-f38c-78620af139d4"
      },
      "execution_count": 54,
      "outputs": [
        {
          "output_type": "execute_result",
          "data": {
            "text/plain": [
              "[<matplotlib.lines.Line2D at 0x7f7abd612980>]"
            ]
          },
          "metadata": {},
          "execution_count": 54
        },
        {
          "output_type": "display_data",
          "data": {
            "text/plain": [
              "<Figure size 640x480 with 1 Axes>"
            ],
            "image/png": "[encoded data removed]"
          },
          "metadata": {}
        }
      ]
    }
  ]
}
{
  "nbformat": 4,
  "nbformat_minor": 0,
  "metadata": {
    "colab": {
      "provenance": [],
      "include_colab_link": true
    },
    "kernelspec": {
      "name": "python3",
      "display_name": "Python 3"
    },
    "language_info": {
      "name": "python"
    }
  },
  "cells": [
    {
      "cell_type": "markdown",
      "metadata": {
        "id": "view-in-github",
        "colab_type": "text"
      },
      "source": [
        "<a href=\"https://colab.research.google.com/github/cstarke3/QMC_Final/blob/main/KineticEnergyAttempt.ipynb\" target=\"_parent\"><img src=\"https://colab.research.google.com/assets/colab-badge.svg\" alt=\"Open In Colab\"/></a>"
      ]
    },
    {
      "cell_type": "code",
      "source": [
        "def tests():\n",
        "  \"\"\"\n",
        "  E_0 for the same attractive Gaussian potential that was used in previous homework assignments, with parameters V_0 = -4.0 and range R = 2.0.\n",
        "  Note that even for two particles the ground-state energy below differs from the homework result because that calculation was performed for the 3D system with angular momentum 0, while now we are considering the system in 1D.\n",
        "  \"\"\"\n",
        "  # v_0 = -4.0, R=2.0, n = 2, E_0 = -3.094\n",
        "  # v_0 = -4.0, R=2.0, n = 3, E_0 = -9.738\n",
        "  # v_0 = -4.0, R=2.0, n = 4, E_0 = -20.046"
      ],
      "metadata": {
        "id": "kqbxH3HqRng2"
      },
      "execution_count": null,
      "outputs": []
    },
    {
      "cell_type": "code",
      "execution_count": 20,
      "metadata": {
        "id": "CjxQZobrvLbW"
      },
      "outputs": [],
      "source": [
        "import numpy as np\n",
        "import scipy.constants as const\n",
        "import matplotlib as plt\n",
        "\n",
        "class QMC: #I'm sure I am missing stuff on referencing inside the class and whatnot, but the structure should be right\n",
        "\n",
        "    def __init__(self, V, particles, dim=1, min_replicas=500, max_replicas=2000, max_steps=1000, delta_t=0.1, xmin=-20, xmax=20, bins=200):\n",
        "        self._V = V # potential function V(x) associated with the specific quantum system we are modeling\n",
        "        self._dim = dim # number of dimensions (D=1 for this exercise)\n",
        "        self._min_replicas = min_replicas # minimum number of replicas\n",
        "        self._max_replicas = max_replicas # maximum number of replicas\n",
        "        #self._seed = seed # seed value for the random number generator\n",
        "        self._max_steps = max_steps # maximum number of time steps to run the simulation (τ0 = 1000)\n",
        "        self._delta_t = delta_t # time step size (Δτ = 0.1)\n",
        "        self._xmin = xmin # minimum value of the spatial coordinate (xmin = −20)\n",
        "        self._xmax = xmax # maximum value of the spatial coordinate (xmax = 20)\n",
        "        self._bins = bins # number of spatial bins for sorting the replicas during their sampling\n",
        "        self.mass = 1\n",
        "        self.hbar = 1 #changed to one\n",
        "\n",
        "        self.particles = particles # number of particles\n",
        "        self.replicas = dict()\n",
        "        self.Energy = []\n",
        "        self.total_count = [min_replicas*particles]\n",
        "        self.count = np.zeros(self.particles)\n",
        "        self.Kinetic = np.zeros(self.particles)\n",
        "\n",
        "\n",
        "\n",
        "    def initialize(self, particles):\n",
        "      partial_Energy = []\n",
        "\n",
        "      for i in range(self.particles): # Create replica arrays assigned to individual particles\n",
        "          self.replicas[i] = np.zeros((2, self._max_replicas))\n",
        "          self.replicas[i][1,0:self._min_replicas] = 1\n",
        "\n",
        "      for i in range(self.particles):\n",
        "          self.count[i] = sum(self.replicas[i][1,:])\n",
        "\n",
        "      for i in range(self.particles): # Finds the Energy from Eq, 2.32 and 2.33\n",
        "          partial_Energy.append(self.Average_Potential(i))\n",
        "\n",
        "      self.Energy.append(np.sum(partial_Energy))\n",
        "\n",
        "\n",
        "    def Average_Potential(self, i): #Calulates the average potential for one set of replicas from\n",
        "        sum = 0\n",
        "        for k in range(int(self.count[i])): #I might be indexing wrong here, might be count-1; Could also switch this to N_max and not have to do a sort function, right now we need one though\n",
        "            sum += self._V(self.replicas[i][0, k])\n",
        "        return (1/self.count[i])*sum\n",
        "\n",
        "    def Sort(self, i): # Sorts live replicas to the front of the array\n",
        "        for k in range(int(self.count[i])): #sets dead replicas postions to 0\n",
        "            if self.replicas[i][1,k] == 0:\n",
        "                self.replicas[i][0,k] = 0\n",
        "\n",
        "        transposed_array = list(zip(*self.replicas[i]))\n",
        "        def custom_sort(item):\n",
        "          return item[1]\n",
        "\n",
        "        sorted_transposed_array = sorted(transposed_array, key=custom_sort)\n",
        "        dummy_array = list(zip(*sorted_transposed_array))\n",
        "        final_array = [dummy_array[0][::-1], dummy_array[1][::-1]]\n",
        "\n",
        "        for k in range(self._max_replicas):\n",
        "          self.replicas[i][0,k] = final_array[0][k]\n",
        "          self.replicas[i][1,k] = final_array[1][k]#sorts in descending order to group live replicas to the front of the array\n",
        "\n",
        "\n",
        "    def Count_func(self): #Counts the number of alive particles in the replica set associated with a particular particle\n",
        "        for k in range(self.particles):\n",
        "          self.count[k] = sum(self.replicas[k][1,:])\n",
        "\n",
        "\n",
        "    def Walk(self, i): #Walks every replica associated with particle i according to Eq. 2.30\n",
        "        sum = 0\n",
        "        for k in range(int(self.count[i])):\n",
        "            val = np.copy(self.replicas[i][0,k])\n",
        "            self.replicas[i][0,k] = self.replicas[i][0,k] + np.sqrt(self._delta_t)*np.random.randn()\n",
        "            val = val - self.replicas[i][0,k]\n",
        "            sum += val\n",
        "        self.Kinetic[i] = (1/self.count[i])*sum\n",
        "\n",
        "    def Branch(self, i): #conducts the branching of the replicas\n",
        "        Zed = 0\n",
        "        Two = 0\n",
        "        Three = 0\n",
        "        index = 1\n",
        "        for k in range(int(self.count[i])):\n",
        "            #W = 1 - ((self._V(self.replicas[i][0,k]) - self.Average_Potential(i))/self.hbar)*self._delta_t\n",
        "            W = 1 - (((self._V(self.replicas[i][0,k]) - (self.Energy[-1]/self.particles))/self.hbar))*self._delta_t\n",
        "            W = int(W + np.random.uniform())\n",
        "            m = min(W, 3)\n",
        "            if m == 0:\n",
        "               self.replicas[i][1, k] = 0\n",
        "               self.replicas[i][0, k] = 0\n",
        "               Zed += 1\n",
        "            elif m == 2:\n",
        "                self.replicas[i][1, int(self.count[i]+index)] = 1\n",
        "                self.replicas[i][0, int(self.count[i]+index)] = self.replicas[i][0,k]\n",
        "                index += 1\n",
        "                Two += 1\n",
        "            elif m == 3:\n",
        "                self.replicas[i][1, int(self.count[i]+index)] = 1\n",
        "                self.replicas[i][0, int(self.count[i]+index)] = self.replicas[i][0,k]\n",
        "                self.replicas[i][1, int(self.count[i]+index+1)] = 1\n",
        "                self.replicas[i][0, int(self.count[i]+index+1)] = self.replicas[i][0,k]\n",
        "                index += 2\n",
        "                Three += 1\n",
        "        #print(Zed, Two, Three)\n",
        "        #print(Two - Zed)\n",
        "\n",
        "    def Energy_Step(self, i): #finds the next energy value based on the previous energy value\n",
        "        self.total_count.append(np.sum(self.count))\n",
        "        Kinetic_Total = np.sum(self.Kinetic)/(self.particles)\n",
        "        #self.Energy.append(self.Energy[i-1] + (self.hbar/self._delta_t)*(1-(self.total_count[i-1]/self.total_count[i-2])))\n",
        "        self.Energy.append((self.Energy[i-1] + (self.hbar/self._delta_t)*(1-(self.total_count[i-1]/self.total_count[i-2])))+((1/2)*self.mass*(np.absolute(Kinetic_Total)*self._delta_t)**2))\n",
        "\n",
        "\n",
        "    def Test(self, i): #only run this if i is greater than a set number, 10 maybe?\n",
        "        flag = 0\n",
        "        sum = 0\n",
        "        for k in range(10):\n",
        "            sum += np.absolute(self.total_count[i] - self.total_count[k]) #Sum the count differences for the current count compared to the last 9\n",
        "        avg = sum/10 #Average the count difference\n",
        "        if avg <= 5: #5 here is the tolerance, not sure what a good value is or if there is a just a better way in general to run this test\n",
        "            flag = 1\n",
        "        return flag\n",
        "\n",
        "    def Ground_State_Energy(self):\n",
        "        self.initialize(self.particles)\n",
        "        flag = 0\n",
        "        if flag == 0:\n",
        "            for t in range(1, self._max_steps):\n",
        "              for k in range(self.particles):\n",
        "                if t > 10:\n",
        "                  flag = self.Test(k)\n",
        "                self.Walk(k)\n",
        "                self.Branch(k)\n",
        "                self.Count_func()\n",
        "                self.Sort(k)\n",
        "              self.Energy_Step(t)\n",
        "\n",
        "        return self.Energy[-1], self.Energy"
      ]
    },
    {
      "cell_type": "code",
      "source": [
        "!gdown 14mgfJyCBSvw01ctiK9H6V2JbjcGYNMFc\n",
        "!unzip -o lib.zip"
      ],
      "metadata": {
        "colab": {
          "base_uri": "https://localhost:8080/"
        },
        "id": "2i3pDBrxvXm8",
        "outputId": "c664974c-4612-4f2b-fec8-af2daa3cd0b3"
      },
      "execution_count": 3,
      "outputs": [
        {
          "output_type": "stream",
          "name": "stdout",
          "text": [
            "Downloading...\n",
            "From: https://drive.google.com/uc?id=14mgfJyCBSvw01ctiK9H6V2JbjcGYNMFc\n",
            "To: /content/lib.zip\n",
            "\r  0% 0.00/3.35k [00:00<?, ?B/s]\r100% 3.35k/3.35k [00:00<00:00, 13.1MB/s]\n",
            "Archive:  lib.zip\n",
            "   creating: lib/\n",
            "  inflating: lib/operator.py         \n",
            "  inflating: lib/potential.py        \n",
            "  inflating: lib/riccati.py          \n",
            "  inflating: lib/system.py           \n"
          ]
        }
      ]
    },
    {
      "cell_type": "code",
      "source": [
        "from lib.system import *\n",
        "sys = System()\n",
        "\n",
        "from lib.potential import *\n",
        "\n",
        "V = V_Gauss(sys, -4.0, 2.0)\n",
        "\n",
        "def potential(x):\n",
        "    return 2*x\n",
        "\n",
        "val = QMC(V, 1, 10, max_steps=1000, delta_t = .1, max_replicas=2000)\n",
        "Final_Energy, Energies = val.Ground_State_Energy()\n",
        "print(Final_Energy)"
      ],
      "metadata": {
        "colab": {
          "base_uri": "https://localhost:8080/"
        },
        "id": "r_Qj6DX7vMbj",
        "outputId": "937e1b26-4087-4b82-d5a4-c67bdcdd0c01"
      },
      "execution_count": 26,
      "outputs": [
        {
          "output_type": "stream",
          "name": "stderr",
          "text": [
            "<ipython-input-20-d538230cdd6d>:82: RuntimeWarning: divide by zero encountered in double_scalars\n",
            "  self.Kinetic[i] = (1/self.count[i])*sum\n",
            "<ipython-input-20-d538230cdd6d>:82: RuntimeWarning: invalid value encountered in double_scalars\n",
            "  self.Kinetic[i] = (1/self.count[i])*sum\n",
            "<ipython-input-20-d538230cdd6d>:117: RuntimeWarning: invalid value encountered in double_scalars\n",
            "  self.Energy.append((self.Energy[i-1] + (self.hbar/self._delta_t)*(1-(self.total_count[i-1]/self.total_count[i-2])))+((1/2)*self.mass*(np.absolute(Kinetic_Total)*self._delta_t)**2))\n"
          ]
        },
        {
          "output_type": "stream",
          "name": "stdout",
          "text": [
            "nan\n"
          ]
        }
      ]
    },
    {
      "cell_type": "code",
      "source": [
        "x = np.arange(0,100)\n",
        "plt.plot(x, Energies)"
      ],
      "metadata": {
        "id": "nWQFXidFvovO",
        "colab": {
          "base_uri": "https://localhost:8080/",
          "height": 448
        },
        "outputId": "fffdc273-ccf1-4b92-bdb6-042cbca00704"
      },
      "execution_count": 18,
      "outputs": [
        {
          "output_type": "execute_result",
          "data": {
            "text/plain": [
              "[<matplotlib.lines.Line2D at 0x7f1120a3add0>]"
            ]
          },
          "metadata": {},
          "execution_count": 18
        },
        {
          "output_type": "display_data",
          "data": {
            "text/plain": [
              "<Figure size 640x480 with 1 Axes>"
            ],
            "image/png": "[encoded data removed]"
          },
          "metadata": {}
        }
      ]
    },
    {
      "cell_type": "code",
      "source": [
        "print(np.average(Energies))"
      ],
      "metadata": {
        "colab": {
          "base_uri": "https://localhost:8080/"
        },
        "id": "h7KA8M4U5omt",
        "outputId": "2a60259f-0b4f-488a-fdd1-7ad41001e6d5"
      },
      "execution_count": 22,
      "outputs": [
        {
          "output_type": "stream",
          "name": "stdout",
          "text": [
            "-9.998101881641816\n"
          ]
        }
      ]
    },
    {
      "cell_type": "code",
      "source": [
        "array = [\n",
        "    [3, 7, 2, 0, 5, 0, 1, 8, 4, 6],\n",
        "    [1, 0, 3, 4, 0, 6, 7, 2, 5, 8]\n",
        "]\n",
        "\n",
        "transposed_array = list(zip(*array))\n",
        "def custom_sort(item):\n",
        "    return item[1]\n",
        "\n",
        "sorted_transposed_array = sorted(transposed_array, key=custom_sort)\n",
        "sorted_array = list(zip(*sorted_transposed_array))\n",
        "\n",
        "# Print the result\n",
        "for row in sorted_array:\n",
        "    print(row)"
      ],
      "metadata": {
        "id": "q0VrBgLRR7mv",
        "colab": {
          "base_uri": "https://localhost:8080/"
        },
        "outputId": "8e8023e5-847f-43fb-dd03-b32590e36bbf"
      },
      "execution_count": null,
      "outputs": [
        {
          "output_type": "stream",
          "name": "stdout",
          "text": [
            "(7, 5, 3, 8, 2, 0, 4, 0, 1, 6)\n",
            "(0, 0, 1, 2, 3, 4, 5, 6, 7, 8)\n"
          ]
        }
      ]
    },
    {
      "cell_type": "code",
      "source": [
        "sorted_array"
      ],
      "metadata": {
        "colab": {
          "base_uri": "https://localhost:8080/"
        },
        "id": "AilTLVjRUoPs",
        "outputId": "28938e00-9bd1-43ef-ff4e-efd90c540898"
      },
      "execution_count": null,
      "outputs": [
        {
          "output_type": "execute_result",
          "data": {
            "text/plain": [
              "[(7, 5, 3, 8, 2, 0, 4, 0, 1, 6), (0, 0, 1, 2, 3, 4, 5, 6, 7, 8)]"
            ]
          },
          "metadata": {},
          "execution_count": 6
        }
      ]
    },
    {
      "cell_type": "code",
      "source": [
        "sorted_array[1][::-1]"
      ],
      "metadata": {
        "colab": {
          "base_uri": "https://localhost:8080/"
        },
        "id": "LGK7kdT0VCHE",
        "outputId": "82bd5896-acb8-4007-dbcd-289a4e359ad3"
      },
      "execution_count": null,
      "outputs": [
        {
          "output_type": "execute_result",
          "data": {
            "text/plain": [
              "(8, 7, 6, 5, 4, 3, 2, 1, 0, 0)"
            ]
          },
          "metadata": {},
          "execution_count": 7
        }
      ]
    },
    {
      "cell_type": "code",
      "source": [
        "sorted_array[0][::-1]"
      ],
      "metadata": {
        "colab": {
          "base_uri": "https://localhost:8080/"
        },
        "id": "o0MkY_m7VG5O",
        "outputId": "e5b3ea89-046e-4d1d-b8bc-efd7d5ad2443"
      },
      "execution_count": null,
      "outputs": [
        {
          "output_type": "execute_result",
          "data": {
            "text/plain": [
              "(6, 1, 0, 4, 0, 2, 8, 3, 5, 7)"
            ]
          },
          "metadata": {},
          "execution_count": 8
        }
      ]
    },
    {
      "cell_type": "code",
      "source": [
        "final_array = [sorted_array[0][::-1], sorted_array[1][::-1]]"
      ],
      "metadata": {
        "id": "v2aaPAi5VLkE"
      },
      "execution_count": null,
      "outputs": []
    },
    {
      "cell_type": "code",
      "source": [
        "for row in final_array:\n",
        "    print(row)"
      ],
      "metadata": {
        "colab": {
          "base_uri": "https://localhost:8080/"
        },
        "id": "jFJuJhIKVXWZ",
        "outputId": "2118669d-8822-4c95-f772-628894ec29f3"
      },
      "execution_count": null,
      "outputs": [
        {
          "output_type": "stream",
          "name": "stdout",
          "text": [
            "(6, 1, 0, 4, 0, 2, 8, 3, 5, 7)\n",
            "(8, 7, 6, 5, 4, 3, 2, 1, 0, 0)\n"
          ]
        }
      ]
    },
    {
      "cell_type": "code",
      "source": [
        "final_array"
      ],
      "metadata": {
        "id": "_pl5mBEBVYmD",
        "colab": {
          "base_uri": "https://localhost:8080/"
        },
        "outputId": "9cf0799d-df7e-4314-c9e7-ba85e80db5d1"
      },
      "execution_count": null,
      "outputs": [
        {
          "output_type": "execute_result",
          "data": {
            "text/plain": [
              "[(6, 1, 0, 4, 0, 2, 8, 3, 5, 7), (8, 7, 6, 5, 4, 3, 2, 1, 0, 0)]"
            ]
          },
          "metadata": {},
          "execution_count": 11
        }
      ]
    },
    {
      "cell_type": "code",
      "source": [
        "Energies"
      ],
      "metadata": {
        "id": "NUqKtLMFJOxN",
        "colab": {
          "base_uri": "https://localhost:8080/"
        },
        "outputId": "081544de-27d4-4172-f238-22836648571c"
      },
      "execution_count": null,
      "outputs": [
        {
          "output_type": "execute_result",
          "data": {
            "text/plain": [
              "[-8.0,\n",
              " -18.0,\n",
              " -18.0,\n",
              " -17.99,\n",
              " -18.01002002002002,\n",
              " -18.049980059980058,\n",
              " -18.04002981122384,\n",
              " -18.04002981122384,\n",
              " -18.069910289311487,\n",
              " -18.04011882952996,\n",
              " -18.02019851080486,\n",
              " -18.03017855072502,\n",
              " -18.050118730186632,\n",
              " -18.109820222723947,\n",
              " -18.03069064804541,\n",
              " -18.08054109669945,\n",
              " -18.08054109669945,\n",
              " -18.06069982685818,\n",
              " -18.090520900416827,\n",
              " -18.03105608376668,\n",
              " -17.991175724843448,\n",
              " -17.971155704823428,\n",
              " -17.890914982656927,\n",
              " -17.931359876489083,\n",
              " -18.042135304485054,\n",
              " -18.032175145122505,\n",
              " -17.992294786199274,\n",
              " -18.032334826239314,\n",
              " -18.052275005700928,\n",
              " -18.002523761919832,\n",
              " -18.01252376191983,\n",
              " -18.032503781899848,\n",
              " -18.042473871630655,\n",
              " -18.082314509080852,\n",
              " -18.112076413842757,\n",
              " -18.14175000434721,\n",
              " -18.122026138469497,\n",
              " -18.141788984319298,\n",
              " -18.023445789053028,\n",
              " -17.89370527009095,\n",
              " -17.8532603762588,\n",
              " -17.78219438641108,\n",
              " -17.83331913078736,\n",
              " -17.823146190807705,\n",
              " -17.772229693862695,\n",
              " -17.854113010137006,\n",
              " -17.854113010137006,\n",
              " -17.884569862928885,\n",
              " -17.884569862928885,\n",
              " -17.99590589531755,\n",
              " -18.00591590532756,\n",
              " -18.00591590532756,\n",
              " -18.035915905327556,\n",
              " -18.02594581559675,\n",
              " -18.00598573575643,\n",
              " -17.975985735756428,\n",
              " -17.90577510386074,\n",
              " -17.91587611396175,\n",
              " -17.936057748674163,\n",
              " -17.915916761765803,\n",
              " -17.946189213834423,\n",
              " -17.926068489488348,\n",
              " -17.855503973359315,\n",
              " -17.814894836303477,\n",
              " -17.794507476466578,\n",
              " -17.845579999449214,\n",
              " -17.845579999449214,\n",
              " -17.896393007579295,\n",
              " -17.92672667795341,\n",
              " -17.967049258598575,\n",
              " -17.926888616028293,\n",
              " -18.037775712802485,\n",
              " -18.047745802533292,\n",
              " -17.987984846357993,\n",
              " -18.038085046758795,\n",
              " -18.0480551364896,\n",
              " -18.0480551364896,\n",
              " -17.978334020951753,\n",
              " -17.95827384041013,\n",
              " -17.948223589153848,\n",
              " -17.968344313499923,\n",
              " -18.008504956070205,\n",
              " -17.958504956070204,\n",
              " -17.92835420230136,\n",
              " -17.867870331333616,\n",
              " -17.83744436784477,\n",
              " -17.827271427865117,\n",
              " -17.766171631531105,\n",
              " -17.79690933644914,\n",
              " -17.847981859431776,\n",
              " -17.908957469187875,\n",
              " -17.878654438884844,\n",
              " -17.91918128792233,\n",
              " -17.838454749072685,\n",
              " -17.889319448970955,\n",
              " -17.91968382144059,\n",
              " -18.000410360290235,\n",
              " -17.970380330260205,\n",
              " -17.960340169617634,\n",
              " -17.93018941584879]"
            ]
          },
          "metadata": {},
          "execution_count": 15
        }
      ]
    },
    {
      "cell_type": "code",
      "source": [],
      "metadata": {
        "id": "cCAlChHpcmjb"
      },
      "execution_count": null,
      "outputs": []
    }
  ]
}